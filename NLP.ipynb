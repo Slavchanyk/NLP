{
  "nbformat": 4,
  "nbformat_minor": 0,
  "metadata": {
    "colab": {
      "name": "NLP.ipynb",
      "provenance": [],
      "collapsed_sections": [],
      "toc_visible": true
    },
    "kernelspec": {
      "display_name": "Python 3",
      "name": "python3"
    },
    "language_info": {
      "name": "python"
    },
    "widgets": {
      "application/vnd.jupyter.widget-state+json": {
        "e2abbf8adb6045ba8ad23c9ad9cdb382": {
          "model_module": "@jupyter-widgets/controls",
          "model_name": "HBoxModel",
          "state": {
            "_view_name": "HBoxView",
            "_dom_classes": [],
            "_model_name": "HBoxModel",
            "_view_module": "@jupyter-widgets/controls",
            "_model_module_version": "1.5.0",
            "_view_count": null,
            "_view_module_version": "1.5.0",
            "box_style": "",
            "layout": "IPY_MODEL_ec5ea1aa672244da9aa44721f89e93be",
            "_model_module": "@jupyter-widgets/controls",
            "children": [
              "IPY_MODEL_b390836167924ccbbe50688d52e38a4f",
              "IPY_MODEL_fa02e62ff49240709fabdd09d1cbda87"
            ]
          }
        },
        "ec5ea1aa672244da9aa44721f89e93be": {
          "model_module": "@jupyter-widgets/base",
          "model_name": "LayoutModel",
          "state": {
            "_view_name": "LayoutView",
            "grid_template_rows": null,
            "right": null,
            "justify_content": null,
            "_view_module": "@jupyter-widgets/base",
            "overflow": null,
            "_model_module_version": "1.2.0",
            "_view_count": null,
            "flex_flow": null,
            "width": null,
            "min_width": null,
            "border": null,
            "align_items": null,
            "bottom": null,
            "_model_module": "@jupyter-widgets/base",
            "top": null,
            "grid_column": null,
            "overflow_y": null,
            "overflow_x": null,
            "grid_auto_flow": null,
            "grid_area": null,
            "grid_template_columns": null,
            "flex": null,
            "_model_name": "LayoutModel",
            "justify_items": null,
            "grid_row": null,
            "max_height": null,
            "align_content": null,
            "visibility": null,
            "align_self": null,
            "height": null,
            "min_height": null,
            "padding": null,
            "grid_auto_rows": null,
            "grid_gap": null,
            "max_width": null,
            "order": null,
            "_view_module_version": "1.2.0",
            "grid_template_areas": null,
            "object_position": null,
            "object_fit": null,
            "grid_auto_columns": null,
            "margin": null,
            "display": null,
            "left": null
          }
        },
        "b390836167924ccbbe50688d52e38a4f": {
          "model_module": "@jupyter-widgets/controls",
          "model_name": "FloatProgressModel",
          "state": {
            "_view_name": "ProgressView",
            "style": "IPY_MODEL_7b67a870530b40d098b32d6e4a2a9f7d",
            "_dom_classes": [],
            "description": "Downloading: 100%",
            "_model_name": "FloatProgressModel",
            "bar_style": "success",
            "max": 442,
            "_view_module": "@jupyter-widgets/controls",
            "_model_module_version": "1.5.0",
            "value": 442,
            "_view_count": null,
            "_view_module_version": "1.5.0",
            "orientation": "horizontal",
            "min": 0,
            "description_tooltip": null,
            "_model_module": "@jupyter-widgets/controls",
            "layout": "IPY_MODEL_a404252337084640819390ef4ad14b50"
          }
        },
        "fa02e62ff49240709fabdd09d1cbda87": {
          "model_module": "@jupyter-widgets/controls",
          "model_name": "HTMLModel",
          "state": {
            "_view_name": "HTMLView",
            "style": "IPY_MODEL_f4a1a11b95374aa38d2641ad2d44d72d",
            "_dom_classes": [],
            "description": "",
            "_model_name": "HTMLModel",
            "placeholder": "​",
            "_view_module": "@jupyter-widgets/controls",
            "_model_module_version": "1.5.0",
            "value": " 442/442 [00:00&lt;00:00, 6.30kB/s]",
            "_view_count": null,
            "_view_module_version": "1.5.0",
            "description_tooltip": null,
            "_model_module": "@jupyter-widgets/controls",
            "layout": "IPY_MODEL_65552b1448a24ee6b8e46b0ca886b660"
          }
        },
        "7b67a870530b40d098b32d6e4a2a9f7d": {
          "model_module": "@jupyter-widgets/controls",
          "model_name": "ProgressStyleModel",
          "state": {
            "_view_name": "StyleView",
            "_model_name": "ProgressStyleModel",
            "description_width": "initial",
            "_view_module": "@jupyter-widgets/base",
            "_model_module_version": "1.5.0",
            "_view_count": null,
            "_view_module_version": "1.2.0",
            "bar_color": null,
            "_model_module": "@jupyter-widgets/controls"
          }
        },
        "a404252337084640819390ef4ad14b50": {
          "model_module": "@jupyter-widgets/base",
          "model_name": "LayoutModel",
          "state": {
            "_view_name": "LayoutView",
            "grid_template_rows": null,
            "right": null,
            "justify_content": null,
            "_view_module": "@jupyter-widgets/base",
            "overflow": null,
            "_model_module_version": "1.2.0",
            "_view_count": null,
            "flex_flow": null,
            "width": null,
            "min_width": null,
            "border": null,
            "align_items": null,
            "bottom": null,
            "_model_module": "@jupyter-widgets/base",
            "top": null,
            "grid_column": null,
            "overflow_y": null,
            "overflow_x": null,
            "grid_auto_flow": null,
            "grid_area": null,
            "grid_template_columns": null,
            "flex": null,
            "_model_name": "LayoutModel",
            "justify_items": null,
            "grid_row": null,
            "max_height": null,
            "align_content": null,
            "visibility": null,
            "align_self": null,
            "height": null,
            "min_height": null,
            "padding": null,
            "grid_auto_rows": null,
            "grid_gap": null,
            "max_width": null,
            "order": null,
            "_view_module_version": "1.2.0",
            "grid_template_areas": null,
            "object_position": null,
            "object_fit": null,
            "grid_auto_columns": null,
            "margin": null,
            "display": null,
            "left": null
          }
        },
        "f4a1a11b95374aa38d2641ad2d44d72d": {
          "model_module": "@jupyter-widgets/controls",
          "model_name": "DescriptionStyleModel",
          "state": {
            "_view_name": "StyleView",
            "_model_name": "DescriptionStyleModel",
            "description_width": "",
            "_view_module": "@jupyter-widgets/base",
            "_model_module_version": "1.5.0",
            "_view_count": null,
            "_view_module_version": "1.2.0",
            "_model_module": "@jupyter-widgets/controls"
          }
        },
        "65552b1448a24ee6b8e46b0ca886b660": {
          "model_module": "@jupyter-widgets/base",
          "model_name": "LayoutModel",
          "state": {
            "_view_name": "LayoutView",
            "grid_template_rows": null,
            "right": null,
            "justify_content": null,
            "_view_module": "@jupyter-widgets/base",
            "overflow": null,
            "_model_module_version": "1.2.0",
            "_view_count": null,
            "flex_flow": null,
            "width": null,
            "min_width": null,
            "border": null,
            "align_items": null,
            "bottom": null,
            "_model_module": "@jupyter-widgets/base",
            "top": null,
            "grid_column": null,
            "overflow_y": null,
            "overflow_x": null,
            "grid_auto_flow": null,
            "grid_area": null,
            "grid_template_columns": null,
            "flex": null,
            "_model_name": "LayoutModel",
            "justify_items": null,
            "grid_row": null,
            "max_height": null,
            "align_content": null,
            "visibility": null,
            "align_self": null,
            "height": null,
            "min_height": null,
            "padding": null,
            "grid_auto_rows": null,
            "grid_gap": null,
            "max_width": null,
            "order": null,
            "_view_module_version": "1.2.0",
            "grid_template_areas": null,
            "object_position": null,
            "object_fit": null,
            "grid_auto_columns": null,
            "margin": null,
            "display": null,
            "left": null
          }
        },
        "1f483644007c48aca96e55f3a6a5a3db": {
          "model_module": "@jupyter-widgets/controls",
          "model_name": "HBoxModel",
          "state": {
            "_view_name": "HBoxView",
            "_dom_classes": [],
            "_model_name": "HBoxModel",
            "_view_module": "@jupyter-widgets/controls",
            "_model_module_version": "1.5.0",
            "_view_count": null,
            "_view_module_version": "1.5.0",
            "box_style": "",
            "layout": "IPY_MODEL_f2aaea80576543548fe0916cb4b192ad",
            "_model_module": "@jupyter-widgets/controls",
            "children": [
              "IPY_MODEL_ef927aaea32649f09644e984920a2649",
              "IPY_MODEL_1ee0162a694449eaa893280c3b08017c"
            ]
          }
        },
        "f2aaea80576543548fe0916cb4b192ad": {
          "model_module": "@jupyter-widgets/base",
          "model_name": "LayoutModel",
          "state": {
            "_view_name": "LayoutView",
            "grid_template_rows": null,
            "right": null,
            "justify_content": null,
            "_view_module": "@jupyter-widgets/base",
            "overflow": null,
            "_model_module_version": "1.2.0",
            "_view_count": null,
            "flex_flow": null,
            "width": null,
            "min_width": null,
            "border": null,
            "align_items": null,
            "bottom": null,
            "_model_module": "@jupyter-widgets/base",
            "top": null,
            "grid_column": null,
            "overflow_y": null,
            "overflow_x": null,
            "grid_auto_flow": null,
            "grid_area": null,
            "grid_template_columns": null,
            "flex": null,
            "_model_name": "LayoutModel",
            "justify_items": null,
            "grid_row": null,
            "max_height": null,
            "align_content": null,
            "visibility": null,
            "align_self": null,
            "height": null,
            "min_height": null,
            "padding": null,
            "grid_auto_rows": null,
            "grid_gap": null,
            "max_width": null,
            "order": null,
            "_view_module_version": "1.2.0",
            "grid_template_areas": null,
            "object_position": null,
            "object_fit": null,
            "grid_auto_columns": null,
            "margin": null,
            "display": null,
            "left": null
          }
        },
        "ef927aaea32649f09644e984920a2649": {
          "model_module": "@jupyter-widgets/controls",
          "model_name": "FloatProgressModel",
          "state": {
            "_view_name": "ProgressView",
            "style": "IPY_MODEL_05bb9dbbff3049e0993decf4bed75877",
            "_dom_classes": [],
            "description": "Downloading: 100%",
            "_model_name": "FloatProgressModel",
            "bar_style": "success",
            "max": 231508,
            "_view_module": "@jupyter-widgets/controls",
            "_model_module_version": "1.5.0",
            "value": 231508,
            "_view_count": null,
            "_view_module_version": "1.5.0",
            "orientation": "horizontal",
            "min": 0,
            "description_tooltip": null,
            "_model_module": "@jupyter-widgets/controls",
            "layout": "IPY_MODEL_8d647cc24f9f4e7e90680074593e75c5"
          }
        },
        "1ee0162a694449eaa893280c3b08017c": {
          "model_module": "@jupyter-widgets/controls",
          "model_name": "HTMLModel",
          "state": {
            "_view_name": "HTMLView",
            "style": "IPY_MODEL_d6096122587a4b0dbbc36b88bc8e5711",
            "_dom_classes": [],
            "description": "",
            "_model_name": "HTMLModel",
            "placeholder": "​",
            "_view_module": "@jupyter-widgets/controls",
            "_model_module_version": "1.5.0",
            "value": " 232k/232k [00:00&lt;00:00, 934kB/s]",
            "_view_count": null,
            "_view_module_version": "1.5.0",
            "description_tooltip": null,
            "_model_module": "@jupyter-widgets/controls",
            "layout": "IPY_MODEL_1901a7e21642428ea85ea37cbdbbfee6"
          }
        },
        "05bb9dbbff3049e0993decf4bed75877": {
          "model_module": "@jupyter-widgets/controls",
          "model_name": "ProgressStyleModel",
          "state": {
            "_view_name": "StyleView",
            "_model_name": "ProgressStyleModel",
            "description_width": "initial",
            "_view_module": "@jupyter-widgets/base",
            "_model_module_version": "1.5.0",
            "_view_count": null,
            "_view_module_version": "1.2.0",
            "bar_color": null,
            "_model_module": "@jupyter-widgets/controls"
          }
        },
        "8d647cc24f9f4e7e90680074593e75c5": {
          "model_module": "@jupyter-widgets/base",
          "model_name": "LayoutModel",
          "state": {
            "_view_name": "LayoutView",
            "grid_template_rows": null,
            "right": null,
            "justify_content": null,
            "_view_module": "@jupyter-widgets/base",
            "overflow": null,
            "_model_module_version": "1.2.0",
            "_view_count": null,
            "flex_flow": null,
            "width": null,
            "min_width": null,
            "border": null,
            "align_items": null,
            "bottom": null,
            "_model_module": "@jupyter-widgets/base",
            "top": null,
            "grid_column": null,
            "overflow_y": null,
            "overflow_x": null,
            "grid_auto_flow": null,
            "grid_area": null,
            "grid_template_columns": null,
            "flex": null,
            "_model_name": "LayoutModel",
            "justify_items": null,
            "grid_row": null,
            "max_height": null,
            "align_content": null,
            "visibility": null,
            "align_self": null,
            "height": null,
            "min_height": null,
            "padding": null,
            "grid_auto_rows": null,
            "grid_gap": null,
            "max_width": null,
            "order": null,
            "_view_module_version": "1.2.0",
            "grid_template_areas": null,
            "object_position": null,
            "object_fit": null,
            "grid_auto_columns": null,
            "margin": null,
            "display": null,
            "left": null
          }
        },
        "d6096122587a4b0dbbc36b88bc8e5711": {
          "model_module": "@jupyter-widgets/controls",
          "model_name": "DescriptionStyleModel",
          "state": {
            "_view_name": "StyleView",
            "_model_name": "DescriptionStyleModel",
            "description_width": "",
            "_view_module": "@jupyter-widgets/base",
            "_model_module_version": "1.5.0",
            "_view_count": null,
            "_view_module_version": "1.2.0",
            "_model_module": "@jupyter-widgets/controls"
          }
        },
        "1901a7e21642428ea85ea37cbdbbfee6": {
          "model_module": "@jupyter-widgets/base",
          "model_name": "LayoutModel",
          "state": {
            "_view_name": "LayoutView",
            "grid_template_rows": null,
            "right": null,
            "justify_content": null,
            "_view_module": "@jupyter-widgets/base",
            "overflow": null,
            "_model_module_version": "1.2.0",
            "_view_count": null,
            "flex_flow": null,
            "width": null,
            "min_width": null,
            "border": null,
            "align_items": null,
            "bottom": null,
            "_model_module": "@jupyter-widgets/base",
            "top": null,
            "grid_column": null,
            "overflow_y": null,
            "overflow_x": null,
            "grid_auto_flow": null,
            "grid_area": null,
            "grid_template_columns": null,
            "flex": null,
            "_model_name": "LayoutModel",
            "justify_items": null,
            "grid_row": null,
            "max_height": null,
            "align_content": null,
            "visibility": null,
            "align_self": null,
            "height": null,
            "min_height": null,
            "padding": null,
            "grid_auto_rows": null,
            "grid_gap": null,
            "max_width": null,
            "order": null,
            "_view_module_version": "1.2.0",
            "grid_template_areas": null,
            "object_position": null,
            "object_fit": null,
            "grid_auto_columns": null,
            "margin": null,
            "display": null,
            "left": null
          }
        },
        "a2e14c380d194a43ac6928c0b4cf8233": {
          "model_module": "@jupyter-widgets/controls",
          "model_name": "HBoxModel",
          "state": {
            "_view_name": "HBoxView",
            "_dom_classes": [],
            "_model_name": "HBoxModel",
            "_view_module": "@jupyter-widgets/controls",
            "_model_module_version": "1.5.0",
            "_view_count": null,
            "_view_module_version": "1.5.0",
            "box_style": "",
            "layout": "IPY_MODEL_199ea1706ff644d782857654a17a5d64",
            "_model_module": "@jupyter-widgets/controls",
            "children": [
              "IPY_MODEL_6222281ac8424ab280fd80a268714939",
              "IPY_MODEL_c2e8e5771ff04b6c84196a4f12e4b7b1"
            ]
          }
        },
        "199ea1706ff644d782857654a17a5d64": {
          "model_module": "@jupyter-widgets/base",
          "model_name": "LayoutModel",
          "state": {
            "_view_name": "LayoutView",
            "grid_template_rows": null,
            "right": null,
            "justify_content": null,
            "_view_module": "@jupyter-widgets/base",
            "overflow": null,
            "_model_module_version": "1.2.0",
            "_view_count": null,
            "flex_flow": null,
            "width": null,
            "min_width": null,
            "border": null,
            "align_items": null,
            "bottom": null,
            "_model_module": "@jupyter-widgets/base",
            "top": null,
            "grid_column": null,
            "overflow_y": null,
            "overflow_x": null,
            "grid_auto_flow": null,
            "grid_area": null,
            "grid_template_columns": null,
            "flex": null,
            "_model_name": "LayoutModel",
            "justify_items": null,
            "grid_row": null,
            "max_height": null,
            "align_content": null,
            "visibility": null,
            "align_self": null,
            "height": null,
            "min_height": null,
            "padding": null,
            "grid_auto_rows": null,
            "grid_gap": null,
            "max_width": null,
            "order": null,
            "_view_module_version": "1.2.0",
            "grid_template_areas": null,
            "object_position": null,
            "object_fit": null,
            "grid_auto_columns": null,
            "margin": null,
            "display": null,
            "left": null
          }
        },
        "6222281ac8424ab280fd80a268714939": {
          "model_module": "@jupyter-widgets/controls",
          "model_name": "FloatProgressModel",
          "state": {
            "_view_name": "ProgressView",
            "style": "IPY_MODEL_2a0ceefd0fea4ed9bc109049b2b14969",
            "_dom_classes": [],
            "description": "Downloading: 100%",
            "_model_name": "FloatProgressModel",
            "bar_style": "success",
            "max": 466062,
            "_view_module": "@jupyter-widgets/controls",
            "_model_module_version": "1.5.0",
            "value": 466062,
            "_view_count": null,
            "_view_module_version": "1.5.0",
            "orientation": "horizontal",
            "min": 0,
            "description_tooltip": null,
            "_model_module": "@jupyter-widgets/controls",
            "layout": "IPY_MODEL_3a6c6db608d147c5bb8e2b4fde0f8eac"
          }
        },
        "c2e8e5771ff04b6c84196a4f12e4b7b1": {
          "model_module": "@jupyter-widgets/controls",
          "model_name": "HTMLModel",
          "state": {
            "_view_name": "HTMLView",
            "style": "IPY_MODEL_e6df18795df349f28d8cff6a89721da1",
            "_dom_classes": [],
            "description": "",
            "_model_name": "HTMLModel",
            "placeholder": "​",
            "_view_module": "@jupyter-widgets/controls",
            "_model_module_version": "1.5.0",
            "value": " 466k/466k [00:00&lt;00:00, 3.17MB/s]",
            "_view_count": null,
            "_view_module_version": "1.5.0",
            "description_tooltip": null,
            "_model_module": "@jupyter-widgets/controls",
            "layout": "IPY_MODEL_3e848c6eda414abc9c6ff06e21367452"
          }
        },
        "2a0ceefd0fea4ed9bc109049b2b14969": {
          "model_module": "@jupyter-widgets/controls",
          "model_name": "ProgressStyleModel",
          "state": {
            "_view_name": "StyleView",
            "_model_name": "ProgressStyleModel",
            "description_width": "initial",
            "_view_module": "@jupyter-widgets/base",
            "_model_module_version": "1.5.0",
            "_view_count": null,
            "_view_module_version": "1.2.0",
            "bar_color": null,
            "_model_module": "@jupyter-widgets/controls"
          }
        },
        "3a6c6db608d147c5bb8e2b4fde0f8eac": {
          "model_module": "@jupyter-widgets/base",
          "model_name": "LayoutModel",
          "state": {
            "_view_name": "LayoutView",
            "grid_template_rows": null,
            "right": null,
            "justify_content": null,
            "_view_module": "@jupyter-widgets/base",
            "overflow": null,
            "_model_module_version": "1.2.0",
            "_view_count": null,
            "flex_flow": null,
            "width": null,
            "min_width": null,
            "border": null,
            "align_items": null,
            "bottom": null,
            "_model_module": "@jupyter-widgets/base",
            "top": null,
            "grid_column": null,
            "overflow_y": null,
            "overflow_x": null,
            "grid_auto_flow": null,
            "grid_area": null,
            "grid_template_columns": null,
            "flex": null,
            "_model_name": "LayoutModel",
            "justify_items": null,
            "grid_row": null,
            "max_height": null,
            "align_content": null,
            "visibility": null,
            "align_self": null,
            "height": null,
            "min_height": null,
            "padding": null,
            "grid_auto_rows": null,
            "grid_gap": null,
            "max_width": null,
            "order": null,
            "_view_module_version": "1.2.0",
            "grid_template_areas": null,
            "object_position": null,
            "object_fit": null,
            "grid_auto_columns": null,
            "margin": null,
            "display": null,
            "left": null
          }
        },
        "e6df18795df349f28d8cff6a89721da1": {
          "model_module": "@jupyter-widgets/controls",
          "model_name": "DescriptionStyleModel",
          "state": {
            "_view_name": "StyleView",
            "_model_name": "DescriptionStyleModel",
            "description_width": "",
            "_view_module": "@jupyter-widgets/base",
            "_model_module_version": "1.5.0",
            "_view_count": null,
            "_view_module_version": "1.2.0",
            "_model_module": "@jupyter-widgets/controls"
          }
        },
        "3e848c6eda414abc9c6ff06e21367452": {
          "model_module": "@jupyter-widgets/base",
          "model_name": "LayoutModel",
          "state": {
            "_view_name": "LayoutView",
            "grid_template_rows": null,
            "right": null,
            "justify_content": null,
            "_view_module": "@jupyter-widgets/base",
            "overflow": null,
            "_model_module_version": "1.2.0",
            "_view_count": null,
            "flex_flow": null,
            "width": null,
            "min_width": null,
            "border": null,
            "align_items": null,
            "bottom": null,
            "_model_module": "@jupyter-widgets/base",
            "top": null,
            "grid_column": null,
            "overflow_y": null,
            "overflow_x": null,
            "grid_auto_flow": null,
            "grid_area": null,
            "grid_template_columns": null,
            "flex": null,
            "_model_name": "LayoutModel",
            "justify_items": null,
            "grid_row": null,
            "max_height": null,
            "align_content": null,
            "visibility": null,
            "align_self": null,
            "height": null,
            "min_height": null,
            "padding": null,
            "grid_auto_rows": null,
            "grid_gap": null,
            "max_width": null,
            "order": null,
            "_view_module_version": "1.2.0",
            "grid_template_areas": null,
            "object_position": null,
            "object_fit": null,
            "grid_auto_columns": null,
            "margin": null,
            "display": null,
            "left": null
          }
        },
        "b3e1ba4f31e44e2f8dde5e125c95c9ac": {
          "model_module": "@jupyter-widgets/controls",
          "model_name": "HBoxModel",
          "state": {
            "_view_name": "HBoxView",
            "_dom_classes": [],
            "_model_name": "HBoxModel",
            "_view_module": "@jupyter-widgets/controls",
            "_model_module_version": "1.5.0",
            "_view_count": null,
            "_view_module_version": "1.5.0",
            "box_style": "",
            "layout": "IPY_MODEL_ebf52b20652542e8853edfda9f0b3a29",
            "_model_module": "@jupyter-widgets/controls",
            "children": [
              "IPY_MODEL_40da5bef02ca47acb62d38cdf9393f43",
              "IPY_MODEL_2afe8f4d8968445b81f96166b769c60b"
            ]
          }
        },
        "ebf52b20652542e8853edfda9f0b3a29": {
          "model_module": "@jupyter-widgets/base",
          "model_name": "LayoutModel",
          "state": {
            "_view_name": "LayoutView",
            "grid_template_rows": null,
            "right": null,
            "justify_content": null,
            "_view_module": "@jupyter-widgets/base",
            "overflow": null,
            "_model_module_version": "1.2.0",
            "_view_count": null,
            "flex_flow": null,
            "width": null,
            "min_width": null,
            "border": null,
            "align_items": null,
            "bottom": null,
            "_model_module": "@jupyter-widgets/base",
            "top": null,
            "grid_column": null,
            "overflow_y": null,
            "overflow_x": null,
            "grid_auto_flow": null,
            "grid_area": null,
            "grid_template_columns": null,
            "flex": null,
            "_model_name": "LayoutModel",
            "justify_items": null,
            "grid_row": null,
            "max_height": null,
            "align_content": null,
            "visibility": null,
            "align_self": null,
            "height": null,
            "min_height": null,
            "padding": null,
            "grid_auto_rows": null,
            "grid_gap": null,
            "max_width": null,
            "order": null,
            "_view_module_version": "1.2.0",
            "grid_template_areas": null,
            "object_position": null,
            "object_fit": null,
            "grid_auto_columns": null,
            "margin": null,
            "display": null,
            "left": null
          }
        },
        "40da5bef02ca47acb62d38cdf9393f43": {
          "model_module": "@jupyter-widgets/controls",
          "model_name": "FloatProgressModel",
          "state": {
            "_view_name": "ProgressView",
            "style": "IPY_MODEL_4596a5e6f6bb473e8373a336a8eae1df",
            "_dom_classes": [],
            "description": "Downloading: 100%",
            "_model_name": "FloatProgressModel",
            "bar_style": "success",
            "max": 28,
            "_view_module": "@jupyter-widgets/controls",
            "_model_module_version": "1.5.0",
            "value": 28,
            "_view_count": null,
            "_view_module_version": "1.5.0",
            "orientation": "horizontal",
            "min": 0,
            "description_tooltip": null,
            "_model_module": "@jupyter-widgets/controls",
            "layout": "IPY_MODEL_b69f893ca6a9490ea1383e97d1a5ec50"
          }
        },
        "2afe8f4d8968445b81f96166b769c60b": {
          "model_module": "@jupyter-widgets/controls",
          "model_name": "HTMLModel",
          "state": {
            "_view_name": "HTMLView",
            "style": "IPY_MODEL_c541b2ce5d764c3d873c6091aa1c8578",
            "_dom_classes": [],
            "description": "",
            "_model_name": "HTMLModel",
            "placeholder": "​",
            "_view_module": "@jupyter-widgets/controls",
            "_model_module_version": "1.5.0",
            "value": " 28.0/28.0 [00:00&lt;00:00, 197B/s]",
            "_view_count": null,
            "_view_module_version": "1.5.0",
            "description_tooltip": null,
            "_model_module": "@jupyter-widgets/controls",
            "layout": "IPY_MODEL_d88b735e26914b4f90aca6d378df363b"
          }
        },
        "4596a5e6f6bb473e8373a336a8eae1df": {
          "model_module": "@jupyter-widgets/controls",
          "model_name": "ProgressStyleModel",
          "state": {
            "_view_name": "StyleView",
            "_model_name": "ProgressStyleModel",
            "description_width": "initial",
            "_view_module": "@jupyter-widgets/base",
            "_model_module_version": "1.5.0",
            "_view_count": null,
            "_view_module_version": "1.2.0",
            "bar_color": null,
            "_model_module": "@jupyter-widgets/controls"
          }
        },
        "b69f893ca6a9490ea1383e97d1a5ec50": {
          "model_module": "@jupyter-widgets/base",
          "model_name": "LayoutModel",
          "state": {
            "_view_name": "LayoutView",
            "grid_template_rows": null,
            "right": null,
            "justify_content": null,
            "_view_module": "@jupyter-widgets/base",
            "overflow": null,
            "_model_module_version": "1.2.0",
            "_view_count": null,
            "flex_flow": null,
            "width": null,
            "min_width": null,
            "border": null,
            "align_items": null,
            "bottom": null,
            "_model_module": "@jupyter-widgets/base",
            "top": null,
            "grid_column": null,
            "overflow_y": null,
            "overflow_x": null,
            "grid_auto_flow": null,
            "grid_area": null,
            "grid_template_columns": null,
            "flex": null,
            "_model_name": "LayoutModel",
            "justify_items": null,
            "grid_row": null,
            "max_height": null,
            "align_content": null,
            "visibility": null,
            "align_self": null,
            "height": null,
            "min_height": null,
            "padding": null,
            "grid_auto_rows": null,
            "grid_gap": null,
            "max_width": null,
            "order": null,
            "_view_module_version": "1.2.0",
            "grid_template_areas": null,
            "object_position": null,
            "object_fit": null,
            "grid_auto_columns": null,
            "margin": null,
            "display": null,
            "left": null
          }
        },
        "c541b2ce5d764c3d873c6091aa1c8578": {
          "model_module": "@jupyter-widgets/controls",
          "model_name": "DescriptionStyleModel",
          "state": {
            "_view_name": "StyleView",
            "_model_name": "DescriptionStyleModel",
            "description_width": "",
            "_view_module": "@jupyter-widgets/base",
            "_model_module_version": "1.5.0",
            "_view_count": null,
            "_view_module_version": "1.2.0",
            "_model_module": "@jupyter-widgets/controls"
          }
        },
        "d88b735e26914b4f90aca6d378df363b": {
          "model_module": "@jupyter-widgets/base",
          "model_name": "LayoutModel",
          "state": {
            "_view_name": "LayoutView",
            "grid_template_rows": null,
            "right": null,
            "justify_content": null,
            "_view_module": "@jupyter-widgets/base",
            "overflow": null,
            "_model_module_version": "1.2.0",
            "_view_count": null,
            "flex_flow": null,
            "width": null,
            "min_width": null,
            "border": null,
            "align_items": null,
            "bottom": null,
            "_model_module": "@jupyter-widgets/base",
            "top": null,
            "grid_column": null,
            "overflow_y": null,
            "overflow_x": null,
            "grid_auto_flow": null,
            "grid_area": null,
            "grid_template_columns": null,
            "flex": null,
            "_model_name": "LayoutModel",
            "justify_items": null,
            "grid_row": null,
            "max_height": null,
            "align_content": null,
            "visibility": null,
            "align_self": null,
            "height": null,
            "min_height": null,
            "padding": null,
            "grid_auto_rows": null,
            "grid_gap": null,
            "max_width": null,
            "order": null,
            "_view_module_version": "1.2.0",
            "grid_template_areas": null,
            "object_position": null,
            "object_fit": null,
            "grid_auto_columns": null,
            "margin": null,
            "display": null,
            "left": null
          }
        },
        "ba9b3633f9de4b729d87957d9849fa5f": {
          "model_module": "@jupyter-widgets/controls",
          "model_name": "HBoxModel",
          "state": {
            "_view_name": "HBoxView",
            "_dom_classes": [],
            "_model_name": "HBoxModel",
            "_view_module": "@jupyter-widgets/controls",
            "_model_module_version": "1.5.0",
            "_view_count": null,
            "_view_module_version": "1.5.0",
            "box_style": "",
            "layout": "IPY_MODEL_04f69f2692bd4e79a60ec1107ba85337",
            "_model_module": "@jupyter-widgets/controls",
            "children": [
              "IPY_MODEL_b71282d1d2984dc28cc469316c369d7f",
              "IPY_MODEL_3639aac4f0344d2fb3c7f0ca521b2881"
            ]
          }
        },
        "04f69f2692bd4e79a60ec1107ba85337": {
          "model_module": "@jupyter-widgets/base",
          "model_name": "LayoutModel",
          "state": {
            "_view_name": "LayoutView",
            "grid_template_rows": null,
            "right": null,
            "justify_content": null,
            "_view_module": "@jupyter-widgets/base",
            "overflow": null,
            "_model_module_version": "1.2.0",
            "_view_count": null,
            "flex_flow": null,
            "width": null,
            "min_width": null,
            "border": null,
            "align_items": null,
            "bottom": null,
            "_model_module": "@jupyter-widgets/base",
            "top": null,
            "grid_column": null,
            "overflow_y": null,
            "overflow_x": null,
            "grid_auto_flow": null,
            "grid_area": null,
            "grid_template_columns": null,
            "flex": null,
            "_model_name": "LayoutModel",
            "justify_items": null,
            "grid_row": null,
            "max_height": null,
            "align_content": null,
            "visibility": null,
            "align_self": null,
            "height": null,
            "min_height": null,
            "padding": null,
            "grid_auto_rows": null,
            "grid_gap": null,
            "max_width": null,
            "order": null,
            "_view_module_version": "1.2.0",
            "grid_template_areas": null,
            "object_position": null,
            "object_fit": null,
            "grid_auto_columns": null,
            "margin": null,
            "display": null,
            "left": null
          }
        },
        "b71282d1d2984dc28cc469316c369d7f": {
          "model_module": "@jupyter-widgets/controls",
          "model_name": "FloatProgressModel",
          "state": {
            "_view_name": "ProgressView",
            "style": "IPY_MODEL_6855467ce2bf460eb9a8868afaf780c5",
            "_dom_classes": [],
            "description": "Downloading: 100%",
            "_model_name": "FloatProgressModel",
            "bar_style": "success",
            "max": 267967963,
            "_view_module": "@jupyter-widgets/controls",
            "_model_module_version": "1.5.0",
            "value": 267967963,
            "_view_count": null,
            "_view_module_version": "1.5.0",
            "orientation": "horizontal",
            "min": 0,
            "description_tooltip": null,
            "_model_module": "@jupyter-widgets/controls",
            "layout": "IPY_MODEL_6d3a383a08024517885069f64d5e19d9"
          }
        },
        "3639aac4f0344d2fb3c7f0ca521b2881": {
          "model_module": "@jupyter-widgets/controls",
          "model_name": "HTMLModel",
          "state": {
            "_view_name": "HTMLView",
            "style": "IPY_MODEL_cf53528c77d747c7baa7d7fb51183f5a",
            "_dom_classes": [],
            "description": "",
            "_model_name": "HTMLModel",
            "placeholder": "​",
            "_view_module": "@jupyter-widgets/controls",
            "_model_module_version": "1.5.0",
            "value": " 268M/268M [00:06&lt;00:00, 41.4MB/s]",
            "_view_count": null,
            "_view_module_version": "1.5.0",
            "description_tooltip": null,
            "_model_module": "@jupyter-widgets/controls",
            "layout": "IPY_MODEL_d6978465443e406ab27f8b26b17d6a98"
          }
        },
        "6855467ce2bf460eb9a8868afaf780c5": {
          "model_module": "@jupyter-widgets/controls",
          "model_name": "ProgressStyleModel",
          "state": {
            "_view_name": "StyleView",
            "_model_name": "ProgressStyleModel",
            "description_width": "initial",
            "_view_module": "@jupyter-widgets/base",
            "_model_module_version": "1.5.0",
            "_view_count": null,
            "_view_module_version": "1.2.0",
            "bar_color": null,
            "_model_module": "@jupyter-widgets/controls"
          }
        },
        "6d3a383a08024517885069f64d5e19d9": {
          "model_module": "@jupyter-widgets/base",
          "model_name": "LayoutModel",
          "state": {
            "_view_name": "LayoutView",
            "grid_template_rows": null,
            "right": null,
            "justify_content": null,
            "_view_module": "@jupyter-widgets/base",
            "overflow": null,
            "_model_module_version": "1.2.0",
            "_view_count": null,
            "flex_flow": null,
            "width": null,
            "min_width": null,
            "border": null,
            "align_items": null,
            "bottom": null,
            "_model_module": "@jupyter-widgets/base",
            "top": null,
            "grid_column": null,
            "overflow_y": null,
            "overflow_x": null,
            "grid_auto_flow": null,
            "grid_area": null,
            "grid_template_columns": null,
            "flex": null,
            "_model_name": "LayoutModel",
            "justify_items": null,
            "grid_row": null,
            "max_height": null,
            "align_content": null,
            "visibility": null,
            "align_self": null,
            "height": null,
            "min_height": null,
            "padding": null,
            "grid_auto_rows": null,
            "grid_gap": null,
            "max_width": null,
            "order": null,
            "_view_module_version": "1.2.0",
            "grid_template_areas": null,
            "object_position": null,
            "object_fit": null,
            "grid_auto_columns": null,
            "margin": null,
            "display": null,
            "left": null
          }
        },
        "cf53528c77d747c7baa7d7fb51183f5a": {
          "model_module": "@jupyter-widgets/controls",
          "model_name": "DescriptionStyleModel",
          "state": {
            "_view_name": "StyleView",
            "_model_name": "DescriptionStyleModel",
            "description_width": "",
            "_view_module": "@jupyter-widgets/base",
            "_model_module_version": "1.5.0",
            "_view_count": null,
            "_view_module_version": "1.2.0",
            "_model_module": "@jupyter-widgets/controls"
          }
        },
        "d6978465443e406ab27f8b26b17d6a98": {
          "model_module": "@jupyter-widgets/base",
          "model_name": "LayoutModel",
          "state": {
            "_view_name": "LayoutView",
            "grid_template_rows": null,
            "right": null,
            "justify_content": null,
            "_view_module": "@jupyter-widgets/base",
            "overflow": null,
            "_model_module_version": "1.2.0",
            "_view_count": null,
            "flex_flow": null,
            "width": null,
            "min_width": null,
            "border": null,
            "align_items": null,
            "bottom": null,
            "_model_module": "@jupyter-widgets/base",
            "top": null,
            "grid_column": null,
            "overflow_y": null,
            "overflow_x": null,
            "grid_auto_flow": null,
            "grid_area": null,
            "grid_template_columns": null,
            "flex": null,
            "_model_name": "LayoutModel",
            "justify_items": null,
            "grid_row": null,
            "max_height": null,
            "align_content": null,
            "visibility": null,
            "align_self": null,
            "height": null,
            "min_height": null,
            "padding": null,
            "grid_auto_rows": null,
            "grid_gap": null,
            "max_width": null,
            "order": null,
            "_view_module_version": "1.2.0",
            "grid_template_areas": null,
            "object_position": null,
            "object_fit": null,
            "grid_auto_columns": null,
            "margin": null,
            "display": null,
            "left": null
          }
        },
        "e6b3d944a22f41cab6b7086c54c74a08": {
          "model_module": "@jupyter-widgets/controls",
          "model_name": "HBoxModel",
          "state": {
            "_view_name": "HBoxView",
            "_dom_classes": [],
            "_model_name": "HBoxModel",
            "_view_module": "@jupyter-widgets/controls",
            "_model_module_version": "1.5.0",
            "_view_count": null,
            "_view_module_version": "1.5.0",
            "box_style": "",
            "layout": "IPY_MODEL_b65527496d32457a9a0d032ab4519968",
            "_model_module": "@jupyter-widgets/controls",
            "children": [
              "IPY_MODEL_f2663d16362448ed9147ca2763a6d7f9",
              "IPY_MODEL_7fc393db10104357bb94693b83647004"
            ]
          }
        },
        "b65527496d32457a9a0d032ab4519968": {
          "model_module": "@jupyter-widgets/base",
          "model_name": "LayoutModel",
          "state": {
            "_view_name": "LayoutView",
            "grid_template_rows": null,
            "right": null,
            "justify_content": null,
            "_view_module": "@jupyter-widgets/base",
            "overflow": null,
            "_model_module_version": "1.2.0",
            "_view_count": null,
            "flex_flow": null,
            "width": null,
            "min_width": null,
            "border": null,
            "align_items": null,
            "bottom": null,
            "_model_module": "@jupyter-widgets/base",
            "top": null,
            "grid_column": null,
            "overflow_y": null,
            "overflow_x": null,
            "grid_auto_flow": null,
            "grid_area": null,
            "grid_template_columns": null,
            "flex": null,
            "_model_name": "LayoutModel",
            "justify_items": null,
            "grid_row": null,
            "max_height": null,
            "align_content": null,
            "visibility": null,
            "align_self": null,
            "height": null,
            "min_height": null,
            "padding": null,
            "grid_auto_rows": null,
            "grid_gap": null,
            "max_width": null,
            "order": null,
            "_view_module_version": "1.2.0",
            "grid_template_areas": null,
            "object_position": null,
            "object_fit": null,
            "grid_auto_columns": null,
            "margin": null,
            "display": null,
            "left": null
          }
        },
        "f2663d16362448ed9147ca2763a6d7f9": {
          "model_module": "@jupyter-widgets/controls",
          "model_name": "FloatProgressModel",
          "state": {
            "_view_name": "ProgressView",
            "style": "IPY_MODEL_d484846ebe594f8c8bd49ea419da1137",
            "_dom_classes": [],
            "description": "Downloading: ",
            "_model_name": "FloatProgressModel",
            "bar_style": "success",
            "max": 1690,
            "_view_module": "@jupyter-widgets/controls",
            "_model_module_version": "1.5.0",
            "value": 1690,
            "_view_count": null,
            "_view_module_version": "1.5.0",
            "orientation": "horizontal",
            "min": 0,
            "description_tooltip": null,
            "_model_module": "@jupyter-widgets/controls",
            "layout": "IPY_MODEL_9dc1ec286d7643f691d0e9194456bd67"
          }
        },
        "7fc393db10104357bb94693b83647004": {
          "model_module": "@jupyter-widgets/controls",
          "model_name": "HTMLModel",
          "state": {
            "_view_name": "HTMLView",
            "style": "IPY_MODEL_40474f6407d84e98b7bb871c34b714da",
            "_dom_classes": [],
            "description": "",
            "_model_name": "HTMLModel",
            "placeholder": "​",
            "_view_module": "@jupyter-widgets/controls",
            "_model_module_version": "1.5.0",
            "value": " 4.06k/? [00:36&lt;00:00, 111B/s]",
            "_view_count": null,
            "_view_module_version": "1.5.0",
            "description_tooltip": null,
            "_model_module": "@jupyter-widgets/controls",
            "layout": "IPY_MODEL_86130b96c89a4b068f87b8e58c05c1a1"
          }
        },
        "d484846ebe594f8c8bd49ea419da1137": {
          "model_module": "@jupyter-widgets/controls",
          "model_name": "ProgressStyleModel",
          "state": {
            "_view_name": "StyleView",
            "_model_name": "ProgressStyleModel",
            "description_width": "initial",
            "_view_module": "@jupyter-widgets/base",
            "_model_module_version": "1.5.0",
            "_view_count": null,
            "_view_module_version": "1.2.0",
            "bar_color": null,
            "_model_module": "@jupyter-widgets/controls"
          }
        },
        "9dc1ec286d7643f691d0e9194456bd67": {
          "model_module": "@jupyter-widgets/base",
          "model_name": "LayoutModel",
          "state": {
            "_view_name": "LayoutView",
            "grid_template_rows": null,
            "right": null,
            "justify_content": null,
            "_view_module": "@jupyter-widgets/base",
            "overflow": null,
            "_model_module_version": "1.2.0",
            "_view_count": null,
            "flex_flow": null,
            "width": null,
            "min_width": null,
            "border": null,
            "align_items": null,
            "bottom": null,
            "_model_module": "@jupyter-widgets/base",
            "top": null,
            "grid_column": null,
            "overflow_y": null,
            "overflow_x": null,
            "grid_auto_flow": null,
            "grid_area": null,
            "grid_template_columns": null,
            "flex": null,
            "_model_name": "LayoutModel",
            "justify_items": null,
            "grid_row": null,
            "max_height": null,
            "align_content": null,
            "visibility": null,
            "align_self": null,
            "height": null,
            "min_height": null,
            "padding": null,
            "grid_auto_rows": null,
            "grid_gap": null,
            "max_width": null,
            "order": null,
            "_view_module_version": "1.2.0",
            "grid_template_areas": null,
            "object_position": null,
            "object_fit": null,
            "grid_auto_columns": null,
            "margin": null,
            "display": null,
            "left": null
          }
        },
        "40474f6407d84e98b7bb871c34b714da": {
          "model_module": "@jupyter-widgets/controls",
          "model_name": "DescriptionStyleModel",
          "state": {
            "_view_name": "StyleView",
            "_model_name": "DescriptionStyleModel",
            "description_width": "",
            "_view_module": "@jupyter-widgets/base",
            "_model_module_version": "1.5.0",
            "_view_count": null,
            "_view_module_version": "1.2.0",
            "_model_module": "@jupyter-widgets/controls"
          }
        },
        "86130b96c89a4b068f87b8e58c05c1a1": {
          "model_module": "@jupyter-widgets/base",
          "model_name": "LayoutModel",
          "state": {
            "_view_name": "LayoutView",
            "grid_template_rows": null,
            "right": null,
            "justify_content": null,
            "_view_module": "@jupyter-widgets/base",
            "overflow": null,
            "_model_module_version": "1.2.0",
            "_view_count": null,
            "flex_flow": null,
            "width": null,
            "min_width": null,
            "border": null,
            "align_items": null,
            "bottom": null,
            "_model_module": "@jupyter-widgets/base",
            "top": null,
            "grid_column": null,
            "overflow_y": null,
            "overflow_x": null,
            "grid_auto_flow": null,
            "grid_area": null,
            "grid_template_columns": null,
            "flex": null,
            "_model_name": "LayoutModel",
            "justify_items": null,
            "grid_row": null,
            "max_height": null,
            "align_content": null,
            "visibility": null,
            "align_self": null,
            "height": null,
            "min_height": null,
            "padding": null,
            "grid_auto_rows": null,
            "grid_gap": null,
            "max_width": null,
            "order": null,
            "_view_module_version": "1.2.0",
            "grid_template_areas": null,
            "object_position": null,
            "object_fit": null,
            "grid_auto_columns": null,
            "margin": null,
            "display": null,
            "left": null
          }
        },
        "b273ab3166194d0e857bba89b828add6": {
          "model_module": "@jupyter-widgets/controls",
          "model_name": "HBoxModel",
          "state": {
            "_view_name": "HBoxView",
            "_dom_classes": [],
            "_model_name": "HBoxModel",
            "_view_module": "@jupyter-widgets/controls",
            "_model_module_version": "1.5.0",
            "_view_count": null,
            "_view_module_version": "1.5.0",
            "box_style": "",
            "layout": "IPY_MODEL_35fcf60dec65403e9f19ee89198ac838",
            "_model_module": "@jupyter-widgets/controls",
            "children": [
              "IPY_MODEL_0fe724a7176f49fe89be1d626f3bd868",
              "IPY_MODEL_42ed6cb6b90d49e39d40a6d71299eec6"
            ]
          }
        },
        "35fcf60dec65403e9f19ee89198ac838": {
          "model_module": "@jupyter-widgets/base",
          "model_name": "LayoutModel",
          "state": {
            "_view_name": "LayoutView",
            "grid_template_rows": null,
            "right": null,
            "justify_content": null,
            "_view_module": "@jupyter-widgets/base",
            "overflow": null,
            "_model_module_version": "1.2.0",
            "_view_count": null,
            "flex_flow": null,
            "width": null,
            "min_width": null,
            "border": null,
            "align_items": null,
            "bottom": null,
            "_model_module": "@jupyter-widgets/base",
            "top": null,
            "grid_column": null,
            "overflow_y": null,
            "overflow_x": null,
            "grid_auto_flow": null,
            "grid_area": null,
            "grid_template_columns": null,
            "flex": null,
            "_model_name": "LayoutModel",
            "justify_items": null,
            "grid_row": null,
            "max_height": null,
            "align_content": null,
            "visibility": null,
            "align_self": null,
            "height": null,
            "min_height": null,
            "padding": null,
            "grid_auto_rows": null,
            "grid_gap": null,
            "max_width": null,
            "order": null,
            "_view_module_version": "1.2.0",
            "grid_template_areas": null,
            "object_position": null,
            "object_fit": null,
            "grid_auto_columns": null,
            "margin": null,
            "display": null,
            "left": null
          }
        },
        "0fe724a7176f49fe89be1d626f3bd868": {
          "model_module": "@jupyter-widgets/controls",
          "model_name": "FloatProgressModel",
          "state": {
            "_view_name": "ProgressView",
            "style": "IPY_MODEL_a3a82244d8194d36af4158adbde9a2fa",
            "_dom_classes": [],
            "description": "Downloading: ",
            "_model_name": "FloatProgressModel",
            "bar_style": "success",
            "max": 860,
            "_view_module": "@jupyter-widgets/controls",
            "_model_module_version": "1.5.0",
            "value": 860,
            "_view_count": null,
            "_view_module_version": "1.5.0",
            "orientation": "horizontal",
            "min": 0,
            "description_tooltip": null,
            "_model_module": "@jupyter-widgets/controls",
            "layout": "IPY_MODEL_4806915641ed4b42af29225210141d29"
          }
        },
        "42ed6cb6b90d49e39d40a6d71299eec6": {
          "model_module": "@jupyter-widgets/controls",
          "model_name": "HTMLModel",
          "state": {
            "_view_name": "HTMLView",
            "style": "IPY_MODEL_fb5bc72661cd4271acb99f2bd95d9e7b",
            "_dom_classes": [],
            "description": "",
            "_model_name": "HTMLModel",
            "placeholder": "​",
            "_view_module": "@jupyter-widgets/controls",
            "_model_module_version": "1.5.0",
            "value": " 1.68k/? [00:00&lt;00:00, 21.8kB/s]",
            "_view_count": null,
            "_view_module_version": "1.5.0",
            "description_tooltip": null,
            "_model_module": "@jupyter-widgets/controls",
            "layout": "IPY_MODEL_beab9efb6e764dde8b58a0ea83ee7437"
          }
        },
        "a3a82244d8194d36af4158adbde9a2fa": {
          "model_module": "@jupyter-widgets/controls",
          "model_name": "ProgressStyleModel",
          "state": {
            "_view_name": "StyleView",
            "_model_name": "ProgressStyleModel",
            "description_width": "initial",
            "_view_module": "@jupyter-widgets/base",
            "_model_module_version": "1.5.0",
            "_view_count": null,
            "_view_module_version": "1.2.0",
            "bar_color": null,
            "_model_module": "@jupyter-widgets/controls"
          }
        },
        "4806915641ed4b42af29225210141d29": {
          "model_module": "@jupyter-widgets/base",
          "model_name": "LayoutModel",
          "state": {
            "_view_name": "LayoutView",
            "grid_template_rows": null,
            "right": null,
            "justify_content": null,
            "_view_module": "@jupyter-widgets/base",
            "overflow": null,
            "_model_module_version": "1.2.0",
            "_view_count": null,
            "flex_flow": null,
            "width": null,
            "min_width": null,
            "border": null,
            "align_items": null,
            "bottom": null,
            "_model_module": "@jupyter-widgets/base",
            "top": null,
            "grid_column": null,
            "overflow_y": null,
            "overflow_x": null,
            "grid_auto_flow": null,
            "grid_area": null,
            "grid_template_columns": null,
            "flex": null,
            "_model_name": "LayoutModel",
            "justify_items": null,
            "grid_row": null,
            "max_height": null,
            "align_content": null,
            "visibility": null,
            "align_self": null,
            "height": null,
            "min_height": null,
            "padding": null,
            "grid_auto_rows": null,
            "grid_gap": null,
            "max_width": null,
            "order": null,
            "_view_module_version": "1.2.0",
            "grid_template_areas": null,
            "object_position": null,
            "object_fit": null,
            "grid_auto_columns": null,
            "margin": null,
            "display": null,
            "left": null
          }
        },
        "fb5bc72661cd4271acb99f2bd95d9e7b": {
          "model_module": "@jupyter-widgets/controls",
          "model_name": "DescriptionStyleModel",
          "state": {
            "_view_name": "StyleView",
            "_model_name": "DescriptionStyleModel",
            "description_width": "",
            "_view_module": "@jupyter-widgets/base",
            "_model_module_version": "1.5.0",
            "_view_count": null,
            "_view_module_version": "1.2.0",
            "_model_module": "@jupyter-widgets/controls"
          }
        },
        "beab9efb6e764dde8b58a0ea83ee7437": {
          "model_module": "@jupyter-widgets/base",
          "model_name": "LayoutModel",
          "state": {
            "_view_name": "LayoutView",
            "grid_template_rows": null,
            "right": null,
            "justify_content": null,
            "_view_module": "@jupyter-widgets/base",
            "overflow": null,
            "_model_module_version": "1.2.0",
            "_view_count": null,
            "flex_flow": null,
            "width": null,
            "min_width": null,
            "border": null,
            "align_items": null,
            "bottom": null,
            "_model_module": "@jupyter-widgets/base",
            "top": null,
            "grid_column": null,
            "overflow_y": null,
            "overflow_x": null,
            "grid_auto_flow": null,
            "grid_area": null,
            "grid_template_columns": null,
            "flex": null,
            "_model_name": "LayoutModel",
            "justify_items": null,
            "grid_row": null,
            "max_height": null,
            "align_content": null,
            "visibility": null,
            "align_self": null,
            "height": null,
            "min_height": null,
            "padding": null,
            "grid_auto_rows": null,
            "grid_gap": null,
            "max_width": null,
            "order": null,
            "_view_module_version": "1.2.0",
            "grid_template_areas": null,
            "object_position": null,
            "object_fit": null,
            "grid_auto_columns": null,
            "margin": null,
            "display": null,
            "left": null
          }
        },
        "3cc674b78f1e4a03a360bc41a2cc2669": {
          "model_module": "@jupyter-widgets/controls",
          "model_name": "HBoxModel",
          "state": {
            "_view_name": "HBoxView",
            "_dom_classes": [],
            "_model_name": "HBoxModel",
            "_view_module": "@jupyter-widgets/controls",
            "_model_module_version": "1.5.0",
            "_view_count": null,
            "_view_module_version": "1.5.0",
            "box_style": "",
            "layout": "IPY_MODEL_2187b4c85f2045be8b49e89d639996dd",
            "_model_module": "@jupyter-widgets/controls",
            "children": [
              "IPY_MODEL_f8893e4493f24b8a85afcdcf93e0f918",
              "IPY_MODEL_ae4c7e0c19244b55ad21355a12effad0"
            ]
          }
        },
        "2187b4c85f2045be8b49e89d639996dd": {
          "model_module": "@jupyter-widgets/base",
          "model_name": "LayoutModel",
          "state": {
            "_view_name": "LayoutView",
            "grid_template_rows": null,
            "right": null,
            "justify_content": null,
            "_view_module": "@jupyter-widgets/base",
            "overflow": null,
            "_model_module_version": "1.2.0",
            "_view_count": null,
            "flex_flow": null,
            "width": null,
            "min_width": null,
            "border": null,
            "align_items": null,
            "bottom": null,
            "_model_module": "@jupyter-widgets/base",
            "top": null,
            "grid_column": null,
            "overflow_y": null,
            "overflow_x": null,
            "grid_auto_flow": null,
            "grid_area": null,
            "grid_template_columns": null,
            "flex": null,
            "_model_name": "LayoutModel",
            "justify_items": null,
            "grid_row": null,
            "max_height": null,
            "align_content": null,
            "visibility": null,
            "align_self": null,
            "height": null,
            "min_height": null,
            "padding": null,
            "grid_auto_rows": null,
            "grid_gap": null,
            "max_width": null,
            "order": null,
            "_view_module_version": "1.2.0",
            "grid_template_areas": null,
            "object_position": null,
            "object_fit": null,
            "grid_auto_columns": null,
            "margin": null,
            "display": null,
            "left": null
          }
        },
        "f8893e4493f24b8a85afcdcf93e0f918": {
          "model_module": "@jupyter-widgets/controls",
          "model_name": "FloatProgressModel",
          "state": {
            "_view_name": "ProgressView",
            "style": "IPY_MODEL_f016c637ca874789a5406d75333faf76",
            "_dom_classes": [],
            "description": "Downloading: ",
            "_model_name": "FloatProgressModel",
            "bar_style": "success",
            "max": 1,
            "_view_module": "@jupyter-widgets/controls",
            "_model_module_version": "1.5.0",
            "value": 1,
            "_view_count": null,
            "_view_module_version": "1.5.0",
            "orientation": "horizontal",
            "min": 0,
            "description_tooltip": null,
            "_model_module": "@jupyter-widgets/controls",
            "layout": "IPY_MODEL_e037bf62aa6449f4bec046ee2cb303d7"
          }
        },
        "ae4c7e0c19244b55ad21355a12effad0": {
          "model_module": "@jupyter-widgets/controls",
          "model_name": "HTMLModel",
          "state": {
            "_view_name": "HTMLView",
            "style": "IPY_MODEL_8eee9f2e8a6641929e0e1bf2e8853757",
            "_dom_classes": [],
            "description": "",
            "_model_name": "HTMLModel",
            "placeholder": "​",
            "_view_module": "@jupyter-widgets/controls",
            "_model_module_version": "1.5.0",
            "value": " 688M/? [00:34&lt;00:00, 20.2MB/s]",
            "_view_count": null,
            "_view_module_version": "1.5.0",
            "description_tooltip": null,
            "_model_module": "@jupyter-widgets/controls",
            "layout": "IPY_MODEL_722d3e5952e948298c68aa8ebf9d605e"
          }
        },
        "f016c637ca874789a5406d75333faf76": {
          "model_module": "@jupyter-widgets/controls",
          "model_name": "ProgressStyleModel",
          "state": {
            "_view_name": "StyleView",
            "_model_name": "ProgressStyleModel",
            "description_width": "initial",
            "_view_module": "@jupyter-widgets/base",
            "_model_module_version": "1.5.0",
            "_view_count": null,
            "_view_module_version": "1.2.0",
            "bar_color": null,
            "_model_module": "@jupyter-widgets/controls"
          }
        },
        "e037bf62aa6449f4bec046ee2cb303d7": {
          "model_module": "@jupyter-widgets/base",
          "model_name": "LayoutModel",
          "state": {
            "_view_name": "LayoutView",
            "grid_template_rows": null,
            "right": null,
            "justify_content": null,
            "_view_module": "@jupyter-widgets/base",
            "overflow": null,
            "_model_module_version": "1.2.0",
            "_view_count": null,
            "flex_flow": null,
            "width": null,
            "min_width": null,
            "border": null,
            "align_items": null,
            "bottom": null,
            "_model_module": "@jupyter-widgets/base",
            "top": null,
            "grid_column": null,
            "overflow_y": null,
            "overflow_x": null,
            "grid_auto_flow": null,
            "grid_area": null,
            "grid_template_columns": null,
            "flex": null,
            "_model_name": "LayoutModel",
            "justify_items": null,
            "grid_row": null,
            "max_height": null,
            "align_content": null,
            "visibility": null,
            "align_self": null,
            "height": null,
            "min_height": null,
            "padding": null,
            "grid_auto_rows": null,
            "grid_gap": null,
            "max_width": null,
            "order": null,
            "_view_module_version": "1.2.0",
            "grid_template_areas": null,
            "object_position": null,
            "object_fit": null,
            "grid_auto_columns": null,
            "margin": null,
            "display": null,
            "left": null
          }
        },
        "8eee9f2e8a6641929e0e1bf2e8853757": {
          "model_module": "@jupyter-widgets/controls",
          "model_name": "DescriptionStyleModel",
          "state": {
            "_view_name": "StyleView",
            "_model_name": "DescriptionStyleModel",
            "description_width": "",
            "_view_module": "@jupyter-widgets/base",
            "_model_module_version": "1.5.0",
            "_view_count": null,
            "_view_module_version": "1.2.0",
            "_model_module": "@jupyter-widgets/controls"
          }
        },
        "722d3e5952e948298c68aa8ebf9d605e": {
          "model_module": "@jupyter-widgets/base",
          "model_name": "LayoutModel",
          "state": {
            "_view_name": "LayoutView",
            "grid_template_rows": null,
            "right": null,
            "justify_content": null,
            "_view_module": "@jupyter-widgets/base",
            "overflow": null,
            "_model_module_version": "1.2.0",
            "_view_count": null,
            "flex_flow": null,
            "width": null,
            "min_width": null,
            "border": null,
            "align_items": null,
            "bottom": null,
            "_model_module": "@jupyter-widgets/base",
            "top": null,
            "grid_column": null,
            "overflow_y": null,
            "overflow_x": null,
            "grid_auto_flow": null,
            "grid_area": null,
            "grid_template_columns": null,
            "flex": null,
            "_model_name": "LayoutModel",
            "justify_items": null,
            "grid_row": null,
            "max_height": null,
            "align_content": null,
            "visibility": null,
            "align_self": null,
            "height": null,
            "min_height": null,
            "padding": null,
            "grid_auto_rows": null,
            "grid_gap": null,
            "max_width": null,
            "order": null,
            "_view_module_version": "1.2.0",
            "grid_template_areas": null,
            "object_position": null,
            "object_fit": null,
            "grid_auto_columns": null,
            "margin": null,
            "display": null,
            "left": null
          }
        },
        "3d78e08d346a4ff289295fb4894d31d3": {
          "model_module": "@jupyter-widgets/controls",
          "model_name": "HBoxModel",
          "state": {
            "_view_name": "HBoxView",
            "_dom_classes": [],
            "_model_name": "HBoxModel",
            "_view_module": "@jupyter-widgets/controls",
            "_model_module_version": "1.5.0",
            "_view_count": null,
            "_view_module_version": "1.5.0",
            "box_style": "",
            "layout": "IPY_MODEL_1f30f03d9bbf44209c45eeff0fa49979",
            "_model_module": "@jupyter-widgets/controls",
            "children": [
              "IPY_MODEL_b43e7549124246e5bc8a52e11f9588b3",
              "IPY_MODEL_df4e4cf40a2f4e40a95f80709d8bc702"
            ]
          }
        },
        "1f30f03d9bbf44209c45eeff0fa49979": {
          "model_module": "@jupyter-widgets/base",
          "model_name": "LayoutModel",
          "state": {
            "_view_name": "LayoutView",
            "grid_template_rows": null,
            "right": null,
            "justify_content": null,
            "_view_module": "@jupyter-widgets/base",
            "overflow": null,
            "_model_module_version": "1.2.0",
            "_view_count": null,
            "flex_flow": null,
            "width": null,
            "min_width": null,
            "border": null,
            "align_items": null,
            "bottom": null,
            "_model_module": "@jupyter-widgets/base",
            "top": null,
            "grid_column": null,
            "overflow_y": null,
            "overflow_x": null,
            "grid_auto_flow": null,
            "grid_area": null,
            "grid_template_columns": null,
            "flex": null,
            "_model_name": "LayoutModel",
            "justify_items": null,
            "grid_row": null,
            "max_height": null,
            "align_content": null,
            "visibility": null,
            "align_self": null,
            "height": null,
            "min_height": null,
            "padding": null,
            "grid_auto_rows": null,
            "grid_gap": null,
            "max_width": null,
            "order": null,
            "_view_module_version": "1.2.0",
            "grid_template_areas": null,
            "object_position": null,
            "object_fit": null,
            "grid_auto_columns": null,
            "margin": null,
            "display": null,
            "left": null
          }
        },
        "b43e7549124246e5bc8a52e11f9588b3": {
          "model_module": "@jupyter-widgets/controls",
          "model_name": "FloatProgressModel",
          "state": {
            "_view_name": "ProgressView",
            "style": "IPY_MODEL_028db69dc2554d86a9199ac5c6af0b21",
            "_dom_classes": [],
            "description": "",
            "_model_name": "FloatProgressModel",
            "bar_style": "info",
            "max": 1,
            "_view_module": "@jupyter-widgets/controls",
            "_model_module_version": "1.5.0",
            "value": 1,
            "_view_count": null,
            "_view_module_version": "1.5.0",
            "orientation": "horizontal",
            "min": 0,
            "description_tooltip": null,
            "_model_module": "@jupyter-widgets/controls",
            "layout": "IPY_MODEL_7e8510f9d7384673abd88b0ba2e6278f"
          }
        },
        "df4e4cf40a2f4e40a95f80709d8bc702": {
          "model_module": "@jupyter-widgets/controls",
          "model_name": "HTMLModel",
          "state": {
            "_view_name": "HTMLView",
            "style": "IPY_MODEL_b31d359c58c644adb688fcb22c008e1d",
            "_dom_classes": [],
            "description": "",
            "_model_name": "HTMLModel",
            "placeholder": "​",
            "_view_module": "@jupyter-widgets/controls",
            "_model_module_version": "1.5.0",
            "value": " 3600000/0 [01:33&lt;00:00, 42365.02 examples/s]",
            "_view_count": null,
            "_view_module_version": "1.5.0",
            "description_tooltip": null,
            "_model_module": "@jupyter-widgets/controls",
            "layout": "IPY_MODEL_eed0280c1e1c4abf9d4e0969324ebfb0"
          }
        },
        "028db69dc2554d86a9199ac5c6af0b21": {
          "model_module": "@jupyter-widgets/controls",
          "model_name": "ProgressStyleModel",
          "state": {
            "_view_name": "StyleView",
            "_model_name": "ProgressStyleModel",
            "description_width": "initial",
            "_view_module": "@jupyter-widgets/base",
            "_model_module_version": "1.5.0",
            "_view_count": null,
            "_view_module_version": "1.2.0",
            "bar_color": null,
            "_model_module": "@jupyter-widgets/controls"
          }
        },
        "7e8510f9d7384673abd88b0ba2e6278f": {
          "model_module": "@jupyter-widgets/base",
          "model_name": "LayoutModel",
          "state": {
            "_view_name": "LayoutView",
            "grid_template_rows": null,
            "right": null,
            "justify_content": null,
            "_view_module": "@jupyter-widgets/base",
            "overflow": null,
            "_model_module_version": "1.2.0",
            "_view_count": null,
            "flex_flow": null,
            "width": null,
            "min_width": null,
            "border": null,
            "align_items": null,
            "bottom": null,
            "_model_module": "@jupyter-widgets/base",
            "top": null,
            "grid_column": null,
            "overflow_y": null,
            "overflow_x": null,
            "grid_auto_flow": null,
            "grid_area": null,
            "grid_template_columns": null,
            "flex": null,
            "_model_name": "LayoutModel",
            "justify_items": null,
            "grid_row": null,
            "max_height": null,
            "align_content": null,
            "visibility": null,
            "align_self": null,
            "height": null,
            "min_height": null,
            "padding": null,
            "grid_auto_rows": null,
            "grid_gap": null,
            "max_width": null,
            "order": null,
            "_view_module_version": "1.2.0",
            "grid_template_areas": null,
            "object_position": null,
            "object_fit": null,
            "grid_auto_columns": null,
            "margin": null,
            "display": null,
            "left": null
          }
        },
        "b31d359c58c644adb688fcb22c008e1d": {
          "model_module": "@jupyter-widgets/controls",
          "model_name": "DescriptionStyleModel",
          "state": {
            "_view_name": "StyleView",
            "_model_name": "DescriptionStyleModel",
            "description_width": "",
            "_view_module": "@jupyter-widgets/base",
            "_model_module_version": "1.5.0",
            "_view_count": null,
            "_view_module_version": "1.2.0",
            "_model_module": "@jupyter-widgets/controls"
          }
        },
        "eed0280c1e1c4abf9d4e0969324ebfb0": {
          "model_module": "@jupyter-widgets/base",
          "model_name": "LayoutModel",
          "state": {
            "_view_name": "LayoutView",
            "grid_template_rows": null,
            "right": null,
            "justify_content": null,
            "_view_module": "@jupyter-widgets/base",
            "overflow": null,
            "_model_module_version": "1.2.0",
            "_view_count": null,
            "flex_flow": null,
            "width": null,
            "min_width": null,
            "border": null,
            "align_items": null,
            "bottom": null,
            "_model_module": "@jupyter-widgets/base",
            "top": null,
            "grid_column": null,
            "overflow_y": null,
            "overflow_x": null,
            "grid_auto_flow": null,
            "grid_area": null,
            "grid_template_columns": null,
            "flex": null,
            "_model_name": "LayoutModel",
            "justify_items": null,
            "grid_row": null,
            "max_height": null,
            "align_content": null,
            "visibility": null,
            "align_self": null,
            "height": null,
            "min_height": null,
            "padding": null,
            "grid_auto_rows": null,
            "grid_gap": null,
            "max_width": null,
            "order": null,
            "_view_module_version": "1.2.0",
            "grid_template_areas": null,
            "object_position": null,
            "object_fit": null,
            "grid_auto_columns": null,
            "margin": null,
            "display": null,
            "left": null
          }
        },
        "40a96757aac042ec8584d84612650698": {
          "model_module": "@jupyter-widgets/controls",
          "model_name": "HBoxModel",
          "state": {
            "_view_name": "HBoxView",
            "_dom_classes": [],
            "_model_name": "HBoxModel",
            "_view_module": "@jupyter-widgets/controls",
            "_model_module_version": "1.5.0",
            "_view_count": null,
            "_view_module_version": "1.5.0",
            "box_style": "",
            "layout": "IPY_MODEL_8be69e63d21f4013acdfc4627d6c4b93",
            "_model_module": "@jupyter-widgets/controls",
            "children": [
              "IPY_MODEL_4ccdd4f2947e45a18356de74d63b0b83",
              "IPY_MODEL_7e5d203c92d6420db22be2d852dcb1e3"
            ]
          }
        },
        "8be69e63d21f4013acdfc4627d6c4b93": {
          "model_module": "@jupyter-widgets/base",
          "model_name": "LayoutModel",
          "state": {
            "_view_name": "LayoutView",
            "grid_template_rows": null,
            "right": null,
            "justify_content": null,
            "_view_module": "@jupyter-widgets/base",
            "overflow": null,
            "_model_module_version": "1.2.0",
            "_view_count": null,
            "flex_flow": null,
            "width": null,
            "min_width": null,
            "border": null,
            "align_items": null,
            "bottom": null,
            "_model_module": "@jupyter-widgets/base",
            "top": null,
            "grid_column": null,
            "overflow_y": null,
            "overflow_x": null,
            "grid_auto_flow": null,
            "grid_area": null,
            "grid_template_columns": null,
            "flex": null,
            "_model_name": "LayoutModel",
            "justify_items": null,
            "grid_row": null,
            "max_height": null,
            "align_content": null,
            "visibility": null,
            "align_self": null,
            "height": null,
            "min_height": null,
            "padding": null,
            "grid_auto_rows": null,
            "grid_gap": null,
            "max_width": null,
            "order": null,
            "_view_module_version": "1.2.0",
            "grid_template_areas": null,
            "object_position": null,
            "object_fit": null,
            "grid_auto_columns": null,
            "margin": null,
            "display": null,
            "left": null
          }
        },
        "4ccdd4f2947e45a18356de74d63b0b83": {
          "model_module": "@jupyter-widgets/controls",
          "model_name": "FloatProgressModel",
          "state": {
            "_view_name": "ProgressView",
            "style": "IPY_MODEL_b3aaec47db3b493ea4b90088bf95bd40",
            "_dom_classes": [],
            "description": "",
            "_model_name": "FloatProgressModel",
            "bar_style": "info",
            "max": 1,
            "_view_module": "@jupyter-widgets/controls",
            "_model_module_version": "1.5.0",
            "value": 1,
            "_view_count": null,
            "_view_module_version": "1.5.0",
            "orientation": "horizontal",
            "min": 0,
            "description_tooltip": null,
            "_model_module": "@jupyter-widgets/controls",
            "layout": "IPY_MODEL_dd3ba22a3a574bbeb17f24c2cf229960"
          }
        },
        "7e5d203c92d6420db22be2d852dcb1e3": {
          "model_module": "@jupyter-widgets/controls",
          "model_name": "HTMLModel",
          "state": {
            "_view_name": "HTMLView",
            "style": "IPY_MODEL_98cad95842b745ebbe1e2287228a0b60",
            "_dom_classes": [],
            "description": "",
            "_model_name": "HTMLModel",
            "placeholder": "​",
            "_view_module": "@jupyter-widgets/controls",
            "_model_module_version": "1.5.0",
            "value": " 400000/0 [00:10&lt;00:00, 40848.26 examples/s]",
            "_view_count": null,
            "_view_module_version": "1.5.0",
            "description_tooltip": null,
            "_model_module": "@jupyter-widgets/controls",
            "layout": "IPY_MODEL_148880474c3f4808ae46f3ab2d43069c"
          }
        },
        "b3aaec47db3b493ea4b90088bf95bd40": {
          "model_module": "@jupyter-widgets/controls",
          "model_name": "ProgressStyleModel",
          "state": {
            "_view_name": "StyleView",
            "_model_name": "ProgressStyleModel",
            "description_width": "initial",
            "_view_module": "@jupyter-widgets/base",
            "_model_module_version": "1.5.0",
            "_view_count": null,
            "_view_module_version": "1.2.0",
            "bar_color": null,
            "_model_module": "@jupyter-widgets/controls"
          }
        },
        "dd3ba22a3a574bbeb17f24c2cf229960": {
          "model_module": "@jupyter-widgets/base",
          "model_name": "LayoutModel",
          "state": {
            "_view_name": "LayoutView",
            "grid_template_rows": null,
            "right": null,
            "justify_content": null,
            "_view_module": "@jupyter-widgets/base",
            "overflow": null,
            "_model_module_version": "1.2.0",
            "_view_count": null,
            "flex_flow": null,
            "width": null,
            "min_width": null,
            "border": null,
            "align_items": null,
            "bottom": null,
            "_model_module": "@jupyter-widgets/base",
            "top": null,
            "grid_column": null,
            "overflow_y": null,
            "overflow_x": null,
            "grid_auto_flow": null,
            "grid_area": null,
            "grid_template_columns": null,
            "flex": null,
            "_model_name": "LayoutModel",
            "justify_items": null,
            "grid_row": null,
            "max_height": null,
            "align_content": null,
            "visibility": null,
            "align_self": null,
            "height": null,
            "min_height": null,
            "padding": null,
            "grid_auto_rows": null,
            "grid_gap": null,
            "max_width": null,
            "order": null,
            "_view_module_version": "1.2.0",
            "grid_template_areas": null,
            "object_position": null,
            "object_fit": null,
            "grid_auto_columns": null,
            "margin": null,
            "display": null,
            "left": null
          }
        },
        "98cad95842b745ebbe1e2287228a0b60": {
          "model_module": "@jupyter-widgets/controls",
          "model_name": "DescriptionStyleModel",
          "state": {
            "_view_name": "StyleView",
            "_model_name": "DescriptionStyleModel",
            "description_width": "",
            "_view_module": "@jupyter-widgets/base",
            "_model_module_version": "1.5.0",
            "_view_count": null,
            "_view_module_version": "1.2.0",
            "_model_module": "@jupyter-widgets/controls"
          }
        },
        "148880474c3f4808ae46f3ab2d43069c": {
          "model_module": "@jupyter-widgets/base",
          "model_name": "LayoutModel",
          "state": {
            "_view_name": "LayoutView",
            "grid_template_rows": null,
            "right": null,
            "justify_content": null,
            "_view_module": "@jupyter-widgets/base",
            "overflow": null,
            "_model_module_version": "1.2.0",
            "_view_count": null,
            "flex_flow": null,
            "width": null,
            "min_width": null,
            "border": null,
            "align_items": null,
            "bottom": null,
            "_model_module": "@jupyter-widgets/base",
            "top": null,
            "grid_column": null,
            "overflow_y": null,
            "overflow_x": null,
            "grid_auto_flow": null,
            "grid_area": null,
            "grid_template_columns": null,
            "flex": null,
            "_model_name": "LayoutModel",
            "justify_items": null,
            "grid_row": null,
            "max_height": null,
            "align_content": null,
            "visibility": null,
            "align_self": null,
            "height": null,
            "min_height": null,
            "padding": null,
            "grid_auto_rows": null,
            "grid_gap": null,
            "max_width": null,
            "order": null,
            "_view_module_version": "1.2.0",
            "grid_template_areas": null,
            "object_position": null,
            "object_fit": null,
            "grid_auto_columns": null,
            "margin": null,
            "display": null,
            "left": null
          }
        },
        "ba0a841418ce4de8b2b5827b605d3fa0": {
          "model_module": "@jupyter-widgets/controls",
          "model_name": "HBoxModel",
          "state": {
            "_view_name": "HBoxView",
            "_dom_classes": [],
            "_model_name": "HBoxModel",
            "_view_module": "@jupyter-widgets/controls",
            "_model_module_version": "1.5.0",
            "_view_count": null,
            "_view_module_version": "1.5.0",
            "box_style": "",
            "layout": "IPY_MODEL_743570a08c6e4d50a2948a5034da3b72",
            "_model_module": "@jupyter-widgets/controls",
            "children": [
              "IPY_MODEL_9f88a30b643741ec8a5718fbc871b41e",
              "IPY_MODEL_1d2424e44b6e4a99a6ea2d6a3a677e38"
            ]
          }
        },
        "743570a08c6e4d50a2948a5034da3b72": {
          "model_module": "@jupyter-widgets/base",
          "model_name": "LayoutModel",
          "state": {
            "_view_name": "LayoutView",
            "grid_template_rows": null,
            "right": null,
            "justify_content": null,
            "_view_module": "@jupyter-widgets/base",
            "overflow": null,
            "_model_module_version": "1.2.0",
            "_view_count": null,
            "flex_flow": null,
            "width": null,
            "min_width": null,
            "border": null,
            "align_items": null,
            "bottom": null,
            "_model_module": "@jupyter-widgets/base",
            "top": null,
            "grid_column": null,
            "overflow_y": null,
            "overflow_x": null,
            "grid_auto_flow": null,
            "grid_area": null,
            "grid_template_columns": null,
            "flex": null,
            "_model_name": "LayoutModel",
            "justify_items": null,
            "grid_row": null,
            "max_height": null,
            "align_content": null,
            "visibility": null,
            "align_self": null,
            "height": null,
            "min_height": null,
            "padding": null,
            "grid_auto_rows": null,
            "grid_gap": null,
            "max_width": null,
            "order": null,
            "_view_module_version": "1.2.0",
            "grid_template_areas": null,
            "object_position": null,
            "object_fit": null,
            "grid_auto_columns": null,
            "margin": null,
            "display": null,
            "left": null
          }
        },
        "9f88a30b643741ec8a5718fbc871b41e": {
          "model_module": "@jupyter-widgets/controls",
          "model_name": "FloatProgressModel",
          "state": {
            "_view_name": "ProgressView",
            "style": "IPY_MODEL_51a54e42b1f141e99ab13354da2bebc2",
            "_dom_classes": [],
            "description": "100%",
            "_model_name": "FloatProgressModel",
            "bar_style": "success",
            "max": 1,
            "_view_module": "@jupyter-widgets/controls",
            "_model_module_version": "1.5.0",
            "value": 1,
            "_view_count": null,
            "_view_module_version": "1.5.0",
            "orientation": "horizontal",
            "min": 0,
            "description_tooltip": null,
            "_model_module": "@jupyter-widgets/controls",
            "layout": "IPY_MODEL_782fe1a4a06746c0bba020a7ab85c4a1"
          }
        },
        "1d2424e44b6e4a99a6ea2d6a3a677e38": {
          "model_module": "@jupyter-widgets/controls",
          "model_name": "HTMLModel",
          "state": {
            "_view_name": "HTMLView",
            "style": "IPY_MODEL_d23ac263a27642e78a406b978b0b2826",
            "_dom_classes": [],
            "description": "",
            "_model_name": "HTMLModel",
            "placeholder": "​",
            "_view_module": "@jupyter-widgets/controls",
            "_model_module_version": "1.5.0",
            "value": " 1/1 [00:12&lt;00:00, 12.29s/ba]",
            "_view_count": null,
            "_view_module_version": "1.5.0",
            "description_tooltip": null,
            "_model_module": "@jupyter-widgets/controls",
            "layout": "IPY_MODEL_b90d7ca34a104236bb6b44671c03cecf"
          }
        },
        "51a54e42b1f141e99ab13354da2bebc2": {
          "model_module": "@jupyter-widgets/controls",
          "model_name": "ProgressStyleModel",
          "state": {
            "_view_name": "StyleView",
            "_model_name": "ProgressStyleModel",
            "description_width": "initial",
            "_view_module": "@jupyter-widgets/base",
            "_model_module_version": "1.5.0",
            "_view_count": null,
            "_view_module_version": "1.2.0",
            "bar_color": null,
            "_model_module": "@jupyter-widgets/controls"
          }
        },
        "782fe1a4a06746c0bba020a7ab85c4a1": {
          "model_module": "@jupyter-widgets/base",
          "model_name": "LayoutModel",
          "state": {
            "_view_name": "LayoutView",
            "grid_template_rows": null,
            "right": null,
            "justify_content": null,
            "_view_module": "@jupyter-widgets/base",
            "overflow": null,
            "_model_module_version": "1.2.0",
            "_view_count": null,
            "flex_flow": null,
            "width": null,
            "min_width": null,
            "border": null,
            "align_items": null,
            "bottom": null,
            "_model_module": "@jupyter-widgets/base",
            "top": null,
            "grid_column": null,
            "overflow_y": null,
            "overflow_x": null,
            "grid_auto_flow": null,
            "grid_area": null,
            "grid_template_columns": null,
            "flex": null,
            "_model_name": "LayoutModel",
            "justify_items": null,
            "grid_row": null,
            "max_height": null,
            "align_content": null,
            "visibility": null,
            "align_self": null,
            "height": null,
            "min_height": null,
            "padding": null,
            "grid_auto_rows": null,
            "grid_gap": null,
            "max_width": null,
            "order": null,
            "_view_module_version": "1.2.0",
            "grid_template_areas": null,
            "object_position": null,
            "object_fit": null,
            "grid_auto_columns": null,
            "margin": null,
            "display": null,
            "left": null
          }
        },
        "d23ac263a27642e78a406b978b0b2826": {
          "model_module": "@jupyter-widgets/controls",
          "model_name": "DescriptionStyleModel",
          "state": {
            "_view_name": "StyleView",
            "_model_name": "DescriptionStyleModel",
            "description_width": "",
            "_view_module": "@jupyter-widgets/base",
            "_model_module_version": "1.5.0",
            "_view_count": null,
            "_view_module_version": "1.2.0",
            "_model_module": "@jupyter-widgets/controls"
          }
        },
        "b90d7ca34a104236bb6b44671c03cecf": {
          "model_module": "@jupyter-widgets/base",
          "model_name": "LayoutModel",
          "state": {
            "_view_name": "LayoutView",
            "grid_template_rows": null,
            "right": null,
            "justify_content": null,
            "_view_module": "@jupyter-widgets/base",
            "overflow": null,
            "_model_module_version": "1.2.0",
            "_view_count": null,
            "flex_flow": null,
            "width": null,
            "min_width": null,
            "border": null,
            "align_items": null,
            "bottom": null,
            "_model_module": "@jupyter-widgets/base",
            "top": null,
            "grid_column": null,
            "overflow_y": null,
            "overflow_x": null,
            "grid_auto_flow": null,
            "grid_area": null,
            "grid_template_columns": null,
            "flex": null,
            "_model_name": "LayoutModel",
            "justify_items": null,
            "grid_row": null,
            "max_height": null,
            "align_content": null,
            "visibility": null,
            "align_self": null,
            "height": null,
            "min_height": null,
            "padding": null,
            "grid_auto_rows": null,
            "grid_gap": null,
            "max_width": null,
            "order": null,
            "_view_module_version": "1.2.0",
            "grid_template_areas": null,
            "object_position": null,
            "object_fit": null,
            "grid_auto_columns": null,
            "margin": null,
            "display": null,
            "left": null
          }
        },
        "4d27b89bf8574725a5c62b65001b68ab": {
          "model_module": "@jupyter-widgets/controls",
          "model_name": "HBoxModel",
          "state": {
            "_view_name": "HBoxView",
            "_dom_classes": [],
            "_model_name": "HBoxModel",
            "_view_module": "@jupyter-widgets/controls",
            "_model_module_version": "1.5.0",
            "_view_count": null,
            "_view_module_version": "1.5.0",
            "box_style": "",
            "layout": "IPY_MODEL_ef662bd0b96141e8b214b5980ed68d55",
            "_model_module": "@jupyter-widgets/controls",
            "children": [
              "IPY_MODEL_e329e979b365416695b3af5508b887af",
              "IPY_MODEL_141e181249cc4a7da5672b8850cba649"
            ]
          }
        },
        "ef662bd0b96141e8b214b5980ed68d55": {
          "model_module": "@jupyter-widgets/base",
          "model_name": "LayoutModel",
          "state": {
            "_view_name": "LayoutView",
            "grid_template_rows": null,
            "right": null,
            "justify_content": null,
            "_view_module": "@jupyter-widgets/base",
            "overflow": null,
            "_model_module_version": "1.2.0",
            "_view_count": null,
            "flex_flow": null,
            "width": null,
            "min_width": null,
            "border": null,
            "align_items": null,
            "bottom": null,
            "_model_module": "@jupyter-widgets/base",
            "top": null,
            "grid_column": null,
            "overflow_y": null,
            "overflow_x": null,
            "grid_auto_flow": null,
            "grid_area": null,
            "grid_template_columns": null,
            "flex": null,
            "_model_name": "LayoutModel",
            "justify_items": null,
            "grid_row": null,
            "max_height": null,
            "align_content": null,
            "visibility": null,
            "align_self": null,
            "height": null,
            "min_height": null,
            "padding": null,
            "grid_auto_rows": null,
            "grid_gap": null,
            "max_width": null,
            "order": null,
            "_view_module_version": "1.2.0",
            "grid_template_areas": null,
            "object_position": null,
            "object_fit": null,
            "grid_auto_columns": null,
            "margin": null,
            "display": null,
            "left": null
          }
        },
        "e329e979b365416695b3af5508b887af": {
          "model_module": "@jupyter-widgets/controls",
          "model_name": "FloatProgressModel",
          "state": {
            "_view_name": "ProgressView",
            "style": "IPY_MODEL_6893fa4d2b2b42d9b0651c77944fbda7",
            "_dom_classes": [],
            "description": "100%",
            "_model_name": "FloatProgressModel",
            "bar_style": "success",
            "max": 1,
            "_view_module": "@jupyter-widgets/controls",
            "_model_module_version": "1.5.0",
            "value": 1,
            "_view_count": null,
            "_view_module_version": "1.5.0",
            "orientation": "horizontal",
            "min": 0,
            "description_tooltip": null,
            "_model_module": "@jupyter-widgets/controls",
            "layout": "IPY_MODEL_3bbb4163899448d09016641efb0e0768"
          }
        },
        "141e181249cc4a7da5672b8850cba649": {
          "model_module": "@jupyter-widgets/controls",
          "model_name": "HTMLModel",
          "state": {
            "_view_name": "HTMLView",
            "style": "IPY_MODEL_3cc2ba2d39164c58a0f4bcdc4451a0e3",
            "_dom_classes": [],
            "description": "",
            "_model_name": "HTMLModel",
            "placeholder": "​",
            "_view_module": "@jupyter-widgets/controls",
            "_model_module_version": "1.5.0",
            "value": " 1/1 [00:01&lt;00:00,  1.45s/ba]",
            "_view_count": null,
            "_view_module_version": "1.5.0",
            "description_tooltip": null,
            "_model_module": "@jupyter-widgets/controls",
            "layout": "IPY_MODEL_485a944b08f44d149ee9179de86e24b4"
          }
        },
        "6893fa4d2b2b42d9b0651c77944fbda7": {
          "model_module": "@jupyter-widgets/controls",
          "model_name": "ProgressStyleModel",
          "state": {
            "_view_name": "StyleView",
            "_model_name": "ProgressStyleModel",
            "description_width": "initial",
            "_view_module": "@jupyter-widgets/base",
            "_model_module_version": "1.5.0",
            "_view_count": null,
            "_view_module_version": "1.2.0",
            "bar_color": null,
            "_model_module": "@jupyter-widgets/controls"
          }
        },
        "3bbb4163899448d09016641efb0e0768": {
          "model_module": "@jupyter-widgets/base",
          "model_name": "LayoutModel",
          "state": {
            "_view_name": "LayoutView",
            "grid_template_rows": null,
            "right": null,
            "justify_content": null,
            "_view_module": "@jupyter-widgets/base",
            "overflow": null,
            "_model_module_version": "1.2.0",
            "_view_count": null,
            "flex_flow": null,
            "width": null,
            "min_width": null,
            "border": null,
            "align_items": null,
            "bottom": null,
            "_model_module": "@jupyter-widgets/base",
            "top": null,
            "grid_column": null,
            "overflow_y": null,
            "overflow_x": null,
            "grid_auto_flow": null,
            "grid_area": null,
            "grid_template_columns": null,
            "flex": null,
            "_model_name": "LayoutModel",
            "justify_items": null,
            "grid_row": null,
            "max_height": null,
            "align_content": null,
            "visibility": null,
            "align_self": null,
            "height": null,
            "min_height": null,
            "padding": null,
            "grid_auto_rows": null,
            "grid_gap": null,
            "max_width": null,
            "order": null,
            "_view_module_version": "1.2.0",
            "grid_template_areas": null,
            "object_position": null,
            "object_fit": null,
            "grid_auto_columns": null,
            "margin": null,
            "display": null,
            "left": null
          }
        },
        "3cc2ba2d39164c58a0f4bcdc4451a0e3": {
          "model_module": "@jupyter-widgets/controls",
          "model_name": "DescriptionStyleModel",
          "state": {
            "_view_name": "StyleView",
            "_model_name": "DescriptionStyleModel",
            "description_width": "",
            "_view_module": "@jupyter-widgets/base",
            "_model_module_version": "1.5.0",
            "_view_count": null,
            "_view_module_version": "1.2.0",
            "_model_module": "@jupyter-widgets/controls"
          }
        },
        "485a944b08f44d149ee9179de86e24b4": {
          "model_module": "@jupyter-widgets/base",
          "model_name": "LayoutModel",
          "state": {
            "_view_name": "LayoutView",
            "grid_template_rows": null,
            "right": null,
            "justify_content": null,
            "_view_module": "@jupyter-widgets/base",
            "overflow": null,
            "_model_module_version": "1.2.0",
            "_view_count": null,
            "flex_flow": null,
            "width": null,
            "min_width": null,
            "border": null,
            "align_items": null,
            "bottom": null,
            "_model_module": "@jupyter-widgets/base",
            "top": null,
            "grid_column": null,
            "overflow_y": null,
            "overflow_x": null,
            "grid_auto_flow": null,
            "grid_area": null,
            "grid_template_columns": null,
            "flex": null,
            "_model_name": "LayoutModel",
            "justify_items": null,
            "grid_row": null,
            "max_height": null,
            "align_content": null,
            "visibility": null,
            "align_self": null,
            "height": null,
            "min_height": null,
            "padding": null,
            "grid_auto_rows": null,
            "grid_gap": null,
            "max_width": null,
            "order": null,
            "_view_module_version": "1.2.0",
            "grid_template_areas": null,
            "object_position": null,
            "object_fit": null,
            "grid_auto_columns": null,
            "margin": null,
            "display": null,
            "left": null
          }
        }
      }
    },
    "accelerator": "GPU"
  },
  "cells": [
    {
      "cell_type": "markdown",
      "metadata": {
        "id": "HEVc4HXU6ZxI"
      },
      "source": [
        "# Встановлення необхідних бібліотек"
      ]
    },
    {
      "cell_type": "code",
      "metadata": {
        "colab": {
          "base_uri": "https://localhost:8080/"
        },
        "id": "Gem2RmpGA3Nk",
        "outputId": "2e3b4042-a055-44eb-ad79-a492c78a4f73"
      },
      "source": [
        "!pip install --quiet datasets\n",
        "!pip install --quiet spacy\n",
        "!python -m spacy download en_core_web_sm\n",
        "!pip install pystemmer\n",
        "!pip install transformers"
      ],
      "execution_count": null,
      "outputs": [
        {
          "output_type": "stream",
          "text": [
            "\u001b[K     |████████████████████████████████| 194kB 17.1MB/s \n",
            "\u001b[K     |████████████████████████████████| 112kB 48.1MB/s \n",
            "\u001b[K     |████████████████████████████████| 245kB 51.2MB/s \n",
            "\u001b[?25hRequirement already satisfied: en_core_web_sm==2.2.5 from https://github.com/explosion/spacy-models/releases/download/en_core_web_sm-2.2.5/en_core_web_sm-2.2.5.tar.gz#egg=en_core_web_sm==2.2.5 in /usr/local/lib/python3.7/dist-packages (2.2.5)\n",
            "Requirement already satisfied: spacy>=2.2.2 in /usr/local/lib/python3.7/dist-packages (from en_core_web_sm==2.2.5) (2.2.4)\n",
            "Requirement already satisfied: tqdm<5.0.0,>=4.38.0 in /usr/local/lib/python3.7/dist-packages (from spacy>=2.2.2->en_core_web_sm==2.2.5) (4.41.1)\n",
            "Requirement already satisfied: setuptools in /usr/local/lib/python3.7/dist-packages (from spacy>=2.2.2->en_core_web_sm==2.2.5) (54.2.0)\n",
            "Requirement already satisfied: plac<1.2.0,>=0.9.6 in /usr/local/lib/python3.7/dist-packages (from spacy>=2.2.2->en_core_web_sm==2.2.5) (1.1.3)\n",
            "Requirement already satisfied: cymem<2.1.0,>=2.0.2 in /usr/local/lib/python3.7/dist-packages (from spacy>=2.2.2->en_core_web_sm==2.2.5) (2.0.5)\n",
            "Requirement already satisfied: wasabi<1.1.0,>=0.4.0 in /usr/local/lib/python3.7/dist-packages (from spacy>=2.2.2->en_core_web_sm==2.2.5) (0.8.2)\n",
            "Requirement already satisfied: requests<3.0.0,>=2.13.0 in /usr/local/lib/python3.7/dist-packages (from spacy>=2.2.2->en_core_web_sm==2.2.5) (2.23.0)\n",
            "Requirement already satisfied: srsly<1.1.0,>=1.0.2 in /usr/local/lib/python3.7/dist-packages (from spacy>=2.2.2->en_core_web_sm==2.2.5) (1.0.5)\n",
            "Requirement already satisfied: catalogue<1.1.0,>=0.0.7 in /usr/local/lib/python3.7/dist-packages (from spacy>=2.2.2->en_core_web_sm==2.2.5) (1.0.0)\n",
            "Requirement already satisfied: thinc==7.4.0 in /usr/local/lib/python3.7/dist-packages (from spacy>=2.2.2->en_core_web_sm==2.2.5) (7.4.0)\n",
            "Requirement already satisfied: preshed<3.1.0,>=3.0.2 in /usr/local/lib/python3.7/dist-packages (from spacy>=2.2.2->en_core_web_sm==2.2.5) (3.0.5)\n",
            "Requirement already satisfied: blis<0.5.0,>=0.4.0 in /usr/local/lib/python3.7/dist-packages (from spacy>=2.2.2->en_core_web_sm==2.2.5) (0.4.1)\n",
            "Requirement already satisfied: numpy>=1.15.0 in /usr/local/lib/python3.7/dist-packages (from spacy>=2.2.2->en_core_web_sm==2.2.5) (1.19.5)\n",
            "Requirement already satisfied: murmurhash<1.1.0,>=0.28.0 in /usr/local/lib/python3.7/dist-packages (from spacy>=2.2.2->en_core_web_sm==2.2.5) (1.0.5)\n",
            "Requirement already satisfied: chardet<4,>=3.0.2 in /usr/local/lib/python3.7/dist-packages (from requests<3.0.0,>=2.13.0->spacy>=2.2.2->en_core_web_sm==2.2.5) (3.0.4)\n",
            "Requirement already satisfied: idna<3,>=2.5 in /usr/local/lib/python3.7/dist-packages (from requests<3.0.0,>=2.13.0->spacy>=2.2.2->en_core_web_sm==2.2.5) (2.10)\n",
            "Requirement already satisfied: certifi>=2017.4.17 in /usr/local/lib/python3.7/dist-packages (from requests<3.0.0,>=2.13.0->spacy>=2.2.2->en_core_web_sm==2.2.5) (2020.12.5)\n",
            "Requirement already satisfied: urllib3!=1.25.0,!=1.25.1,<1.26,>=1.21.1 in /usr/local/lib/python3.7/dist-packages (from requests<3.0.0,>=2.13.0->spacy>=2.2.2->en_core_web_sm==2.2.5) (1.24.3)\n",
            "Requirement already satisfied: importlib-metadata>=0.20; python_version < \"3.8\" in /usr/local/lib/python3.7/dist-packages (from catalogue<1.1.0,>=0.0.7->spacy>=2.2.2->en_core_web_sm==2.2.5) (3.10.0)\n",
            "Requirement already satisfied: typing-extensions>=3.6.4; python_version < \"3.8\" in /usr/local/lib/python3.7/dist-packages (from importlib-metadata>=0.20; python_version < \"3.8\"->catalogue<1.1.0,>=0.0.7->spacy>=2.2.2->en_core_web_sm==2.2.5) (3.7.4.3)\n",
            "Requirement already satisfied: zipp>=0.5 in /usr/local/lib/python3.7/dist-packages (from importlib-metadata>=0.20; python_version < \"3.8\"->catalogue<1.1.0,>=0.0.7->spacy>=2.2.2->en_core_web_sm==2.2.5) (3.4.1)\n",
            "\u001b[38;5;2m✔ Download and installation successful\u001b[0m\n",
            "You can now load the model via spacy.load('en_core_web_sm')\n",
            "Collecting pystemmer\n",
            "\u001b[?25l  Downloading https://files.pythonhosted.org/packages/55/b2/c3aeebfe4a60256ddb72257e750a94c26c3085f017b7e58c860d5aa91432/PyStemmer-2.0.1.tar.gz (559kB)\n",
            "\u001b[K     |████████████████████████████████| 563kB 18.7MB/s \n",
            "\u001b[?25hBuilding wheels for collected packages: pystemmer\n",
            "  Building wheel for pystemmer (setup.py) ... \u001b[?25l\u001b[?25hdone\n",
            "  Created wheel for pystemmer: filename=PyStemmer-2.0.1-cp37-cp37m-linux_x86_64.whl size=424785 sha256=491fdf919bb7b400a504be21af43a71c75921c9b0f241371be31b7dda1a9fc33\n",
            "  Stored in directory: /root/.cache/pip/wheels/f3/3c/11/ee323a09706e17a649c2730bd8819b06e887411ff7507acf7a\n",
            "Successfully built pystemmer\n",
            "Installing collected packages: pystemmer\n",
            "Successfully installed pystemmer-2.0.1\n",
            "Collecting transformers\n",
            "\u001b[?25l  Downloading https://files.pythonhosted.org/packages/d8/b2/57495b5309f09fa501866e225c84532d1fd89536ea62406b2181933fb418/transformers-4.5.1-py3-none-any.whl (2.1MB)\n",
            "\u001b[K     |████████████████████████████████| 2.1MB 24.7MB/s \n",
            "\u001b[?25hRequirement already satisfied: filelock in /usr/local/lib/python3.7/dist-packages (from transformers) (3.0.12)\n",
            "Requirement already satisfied: regex!=2019.12.17 in /usr/local/lib/python3.7/dist-packages (from transformers) (2019.12.20)\n",
            "Requirement already satisfied: numpy>=1.17 in /usr/local/lib/python3.7/dist-packages (from transformers) (1.19.5)\n",
            "Requirement already satisfied: requests in /usr/local/lib/python3.7/dist-packages (from transformers) (2.23.0)\n",
            "Requirement already satisfied: tqdm>=4.27 in /usr/local/lib/python3.7/dist-packages (from transformers) (4.41.1)\n",
            "Requirement already satisfied: importlib-metadata; python_version < \"3.8\" in /usr/local/lib/python3.7/dist-packages (from transformers) (3.10.0)\n",
            "Collecting sacremoses\n",
            "\u001b[?25l  Downloading https://files.pythonhosted.org/packages/08/cd/342e584ee544d044fb573ae697404ce22ede086c9e87ce5960772084cad0/sacremoses-0.0.44.tar.gz (862kB)\n",
            "\u001b[K     |████████████████████████████████| 870kB 50.1MB/s \n",
            "\u001b[?25hRequirement already satisfied: packaging in /usr/local/lib/python3.7/dist-packages (from transformers) (20.9)\n",
            "Collecting tokenizers<0.11,>=0.10.1\n",
            "\u001b[?25l  Downloading https://files.pythonhosted.org/packages/ae/04/5b870f26a858552025a62f1649c20d29d2672c02ff3c3fb4c688ca46467a/tokenizers-0.10.2-cp37-cp37m-manylinux2010_x86_64.whl (3.3MB)\n",
            "\u001b[K     |████████████████████████████████| 3.3MB 54.1MB/s \n",
            "\u001b[?25hRequirement already satisfied: chardet<4,>=3.0.2 in /usr/local/lib/python3.7/dist-packages (from requests->transformers) (3.0.4)\n",
            "Requirement already satisfied: certifi>=2017.4.17 in /usr/local/lib/python3.7/dist-packages (from requests->transformers) (2020.12.5)\n",
            "Requirement already satisfied: idna<3,>=2.5 in /usr/local/lib/python3.7/dist-packages (from requests->transformers) (2.10)\n",
            "Requirement already satisfied: urllib3!=1.25.0,!=1.25.1,<1.26,>=1.21.1 in /usr/local/lib/python3.7/dist-packages (from requests->transformers) (1.24.3)\n",
            "Requirement already satisfied: typing-extensions>=3.6.4; python_version < \"3.8\" in /usr/local/lib/python3.7/dist-packages (from importlib-metadata; python_version < \"3.8\"->transformers) (3.7.4.3)\n",
            "Requirement already satisfied: zipp>=0.5 in /usr/local/lib/python3.7/dist-packages (from importlib-metadata; python_version < \"3.8\"->transformers) (3.4.1)\n",
            "Requirement already satisfied: six in /usr/local/lib/python3.7/dist-packages (from sacremoses->transformers) (1.15.0)\n",
            "Requirement already satisfied: click in /usr/local/lib/python3.7/dist-packages (from sacremoses->transformers) (7.1.2)\n",
            "Requirement already satisfied: joblib in /usr/local/lib/python3.7/dist-packages (from sacremoses->transformers) (1.0.1)\n",
            "Requirement already satisfied: pyparsing>=2.0.2 in /usr/local/lib/python3.7/dist-packages (from packaging->transformers) (2.4.7)\n",
            "Building wheels for collected packages: sacremoses\n",
            "  Building wheel for sacremoses (setup.py) ... \u001b[?25l\u001b[?25hdone\n",
            "  Created wheel for sacremoses: filename=sacremoses-0.0.44-cp37-none-any.whl size=886084 sha256=1fbbbe372e17d0e47d9e38288e26455100f270126e8fe2017fae2ef3134723cb\n",
            "  Stored in directory: /root/.cache/pip/wheels/3e/fb/c0/13ab4d63d537658f448366744654323077c4d90069b6512f3c\n",
            "Successfully built sacremoses\n",
            "Installing collected packages: sacremoses, tokenizers, transformers\n",
            "Successfully installed sacremoses-0.0.44 tokenizers-0.10.2 transformers-4.5.1\n"
          ],
          "name": "stdout"
        }
      ]
    },
    {
      "cell_type": "markdown",
      "metadata": {
        "id": "Nxh7F23t6hjA"
      },
      "source": [
        "# Імпорт необхідних бібліотек"
      ]
    },
    {
      "cell_type": "code",
      "metadata": {
        "id": "IeU3uetm_o2y"
      },
      "source": [
        "import pandas as pd\n",
        "import numpy as np\n",
        "import spacy\n",
        "import Stemmer\n",
        "import transformers\n",
        "\n",
        "from datasets import load_dataset\n",
        "from sklearn.model_selection import train_test_split\n",
        "from spacy.lang.en.stop_words import STOP_WORDS\n",
        "from collections import Counter\n",
        "from sklearn.linear_model import LogisticRegression\n",
        "from sklearn.naive_bayes import GaussianNB\n",
        "from sklearn.svm import LinearSVC\n",
        "from itertools import chain\n",
        "from sklearn.feature_extraction.text import TfidfVectorizer\n",
        "from gensim.models import KeyedVectors\n",
        "from sklearn.metrics import accuracy_score"
      ],
      "execution_count": null,
      "outputs": []
    },
    {
      "cell_type": "markdown",
      "metadata": {
        "id": "RHz9JyueBd_W"
      },
      "source": [
        "# Зчитування датасету\n",
        "\n",
        "\n",
        "Набір даних відгуків Amazon. Дані охоплюють 18 років, включаючи ~ 35 мільйонів відгуків. \n",
        "Датасет складається із 3 колонок: \n",
        "  - content - рядок, що містить тіло документа\n",
        "  - label - або 1 (позитивна), або 0 (негативна) оцінка (оцінка 1 та 2 як негативна, а 4 та 5 як позитивна, оцінки 3 ігноруються)\n",
        "  - title - рядок, що містить заголовок рецензії\n",
        "\n",
        "В своїй роботі я використовую лише 20000 записів, бо з більшою кількістю виникають проблеми при опрацюванні\n",
        "\n"
      ]
    },
    {
      "cell_type": "code",
      "metadata": {
        "colab": {
          "base_uri": "https://localhost:8080/"
        },
        "id": "4JaXEQG_w3fY",
        "outputId": "44ced891-7ca8-4687-8222-e5d69ad20562"
      },
      "source": [
        "dataset = load_dataset(\"amazon_polarity\")\n",
        "df = pd.DataFrame.from_dict(dataset['train'])\n",
        "remove_n = 3580000\n",
        "drop_indices = np.random.choice(df.index, remove_n, replace=False)\n",
        "df_subset = df.drop(drop_indices)\n",
        "sum(df_subset['label'])/len(df_subset['label'])"
      ],
      "execution_count": null,
      "outputs": [
        {
          "output_type": "stream",
          "text": [
            "Reusing dataset amazon_polarity (/root/.cache/huggingface/datasets/amazon_polarity/amazon_polarity/3.0.0/35b3f5f426863b55dda2d5dc0da2d3714c7b0e5ba64bc4f1415ac9291ffdb234)\n"
          ],
          "name": "stderr"
        },
        {
          "output_type": "execute_result",
          "data": {
            "text/plain": [
              "0.49885"
            ]
          },
          "metadata": {
            "tags": []
          },
          "execution_count": 17
        }
      ]
    },
    {
      "cell_type": "code",
      "metadata": {
        "id": "XFdvP9WAzhGe"
      },
      "source": [
        "df_subset.to_csv('data.csv')"
      ],
      "execution_count": null,
      "outputs": []
    },
    {
      "cell_type": "code",
      "metadata": {
        "colab": {
          "base_uri": "https://localhost:8080/"
        },
        "id": "seKUgbUS2Yri",
        "outputId": "0f0f5b4d-40aa-4604-f04e-c3356885d455"
      },
      "source": [
        "len(df_subset['label'])"
      ],
      "execution_count": null,
      "outputs": [
        {
          "output_type": "execute_result",
          "data": {
            "text/plain": [
              "20000"
            ]
          },
          "metadata": {
            "tags": []
          },
          "execution_count": 5
        }
      ]
    },
    {
      "cell_type": "code",
      "metadata": {
        "colab": {
          "base_uri": "https://localhost:8080/",
          "height": 204
        },
        "id": "7z_7H0xvGml0",
        "outputId": "8f7c847f-f6d6-4278-a95f-d3842232cbec"
      },
      "source": [
        "df_subset.head()"
      ],
      "execution_count": null,
      "outputs": [
        {
          "output_type": "execute_result",
          "data": {
            "text/html": [
              "<div>\n",
              "<style scoped>\n",
              "    .dataframe tbody tr th:only-of-type {\n",
              "        vertical-align: middle;\n",
              "    }\n",
              "\n",
              "    .dataframe tbody tr th {\n",
              "        vertical-align: top;\n",
              "    }\n",
              "\n",
              "    .dataframe thead th {\n",
              "        text-align: right;\n",
              "    }\n",
              "</style>\n",
              "<table border=\"1\" class=\"dataframe\">\n",
              "  <thead>\n",
              "    <tr style=\"text-align: right;\">\n",
              "      <th></th>\n",
              "      <th>content</th>\n",
              "      <th>label</th>\n",
              "      <th>title</th>\n",
              "    </tr>\n",
              "  </thead>\n",
              "  <tbody>\n",
              "    <tr>\n",
              "      <th>57</th>\n",
              "      <td>Either 1 or 5 Stars. Depends on how you look a...</td>\n",
              "      <td>0</td>\n",
              "      <td>Either 1 or 5 Stars. Depends on how you look a...</td>\n",
              "    </tr>\n",
              "    <tr>\n",
              "      <th>659</th>\n",
              "      <td>this product is awesome. it hide all your secr...</td>\n",
              "      <td>1</td>\n",
              "      <td>very good</td>\n",
              "    </tr>\n",
              "    <tr>\n",
              "      <th>880</th>\n",
              "      <td>The classic book that is read by virtually eve...</td>\n",
              "      <td>1</td>\n",
              "      <td>a book value</td>\n",
              "    </tr>\n",
              "    <tr>\n",
              "      <th>1028</th>\n",
              "      <td>Buy this album, and go ahead and buy el cielo ...</td>\n",
              "      <td>1</td>\n",
              "      <td>Best Album I Have Ever Heard. PERIOD !!!</td>\n",
              "    </tr>\n",
              "    <tr>\n",
              "      <th>1141</th>\n",
              "      <td>I bought this adapter for my 12-inch G4 powerb...</td>\n",
              "      <td>0</td>\n",
              "      <td>Don't buy if you have a 12\" G4 Powerbook</td>\n",
              "    </tr>\n",
              "  </tbody>\n",
              "</table>\n",
              "</div>"
            ],
            "text/plain": [
              "                                                content  ...                                              title\n",
              "57    Either 1 or 5 Stars. Depends on how you look a...  ...  Either 1 or 5 Stars. Depends on how you look a...\n",
              "659   this product is awesome. it hide all your secr...  ...                                          very good\n",
              "880   The classic book that is read by virtually eve...  ...                                       a book value\n",
              "1028  Buy this album, and go ahead and buy el cielo ...  ...           Best Album I Have Ever Heard. PERIOD !!!\n",
              "1141  I bought this adapter for my 12-inch G4 powerb...  ...           Don't buy if you have a 12\" G4 Powerbook\n",
              "\n",
              "[5 rows x 3 columns]"
            ]
          },
          "metadata": {
            "tags": []
          },
          "execution_count": 6
        }
      ]
    },
    {
      "cell_type": "code",
      "metadata": {
        "id": "twr5AdxzuahB"
      },
      "source": [
        "df_subset = pd.read_csv('/content/data.csv')"
      ],
      "execution_count": null,
      "outputs": []
    },
    {
      "cell_type": "markdown",
      "metadata": {
        "id": "EJD8CC0g52_5"
      },
      "source": [
        "# Поділ датасету на тренуальний і тестовий\n",
        "\n",
        "70 відсотків даних до тренувального, 30 до тестового"
      ]
    },
    {
      "cell_type": "code",
      "metadata": {
        "id": "MSJ8cTAf1Sz-"
      },
      "source": [
        "X_train, X_test, y_train, y_test = train_test_split(df_subset['content'], df_subset['label'], test_size=0.3, random_state=42)"
      ],
      "execution_count": null,
      "outputs": []
    },
    {
      "cell_type": "markdown",
      "metadata": {
        "id": "E2LY1WIqBmUt"
      },
      "source": [
        "# Оголошення всіх необхідних функцій для препроцесінгу та тренування\n",
        "\n",
        "- tokenize - для токенізації \n",
        "- remove_stop_words - для видалення стоп слів\n",
        "- stem - для стемінгу\n",
        "- preprocess - збирає tokenize, remove_stop_words та stem в одну вункцію\n",
        "- create_vocab - для створення словника\n",
        "- bag_of_words - повертає масив розміру словника із кількість входження кожного слова\n",
        "- train - для тренування та визначення точності моделі "
      ]
    },
    {
      "cell_type": "code",
      "metadata": {
        "id": "ZivW1Xio_rmi"
      },
      "source": [
        "spacy_en = spacy.load(\"en_core_web_sm\")\n",
        "disable = [\"ner\", \"parser\", \"tagger\", \"lemmatizer\", \"tok2vec\", \"senter\", \"attribute_ruler\"]\n",
        "stemmer = Stemmer.Stemmer(\"english\")"
      ],
      "execution_count": null,
      "outputs": []
    },
    {
      "cell_type": "code",
      "metadata": {
        "id": "woe6PEYTGulj"
      },
      "source": [
        "def tokenize(text):\n",
        "  tokens = spacy_en(text, disable=disable)\n",
        "  return tokens\n",
        "\n",
        "\n",
        "def remove_stop_words(tokens):\n",
        "  return [str(token) for token in tokens if str(token).lower() not in STOP_WORDS]\n",
        "\n",
        "\n",
        "def stem(tokens):\n",
        "  tokens = [token.lower() for token in tokens]\n",
        "  return stemmer.stemWords(tokens)\n",
        "\n",
        "\n",
        "def preprocess(text):\n",
        "  tokens = tokenize(text)\n",
        "  tokens = remove_stop_words(tokens)\n",
        "  tokens = stem(tokens)\n",
        "  return tokens\n",
        "\n",
        "\n",
        "def create_vocab(all_tokens, vocab_size):\n",
        "  token_counts = Counter(all_tokens)\n",
        "  token_counts = token_counts.most_common()[:vocab_size]\n",
        "  vocab_list = ['<UNK>'] + [token for token, _ in token_counts]\n",
        "  return vocab_list\n",
        "\n",
        "\n",
        "def bag_of_words(tokens, vocab):\n",
        "  result = [0] * len(vocab)\n",
        "  for t in tokens:\n",
        "    if t not in vocab_list:\n",
        "      t = '<UNK>'\n",
        "    result[vocab_list.index(t)] += 1\n",
        "  return result\n",
        "\n",
        "\n",
        "def train(model, x_train, y_train, x_test, y_test):\n",
        "  model.fit(x_train, y_train)\n",
        "  print(model.score(x_test, y_test))"
      ],
      "execution_count": null,
      "outputs": []
    },
    {
      "cell_type": "markdown",
      "metadata": {
        "id": "LePmK9II8Ey2"
      },
      "source": [
        "# Препроцесінг тренувальних даних, створення словника розміром 5000 та перетворення тренувальних даних у bag_of_words"
      ]
    },
    {
      "cell_type": "code",
      "metadata": {
        "id": "TkKqGLu6Z-kg"
      },
      "source": [
        "tokens_train = []\n",
        "\n",
        "for doc in X_train:\n",
        "  tokens_train.append(preprocess(doc))\n",
        "\n",
        "vocab_list = create_vocab(list(chain.from_iterable(tokens_train)), 5000)\n",
        "bag_of_words_train = []\n",
        "for token in tokens_train:\n",
        "  bag_of_words_train.append(bag_of_words(token, vocab_list))\n"
      ],
      "execution_count": null,
      "outputs": []
    },
    {
      "cell_type": "markdown",
      "metadata": {
        "id": "ivbVP1rW8TeJ"
      },
      "source": [
        "# Препроцесінг тестових даних та перетворення тестових даних у bag_of_words"
      ]
    },
    {
      "cell_type": "code",
      "metadata": {
        "id": "CTqrB542NJc3"
      },
      "source": [
        "tokens_test = []\n",
        "\n",
        "for doc in X_test:\n",
        "  tokens_test.append(preprocess(doc))\n",
        "\n",
        "bag_of_words_test = []\n",
        "for token in tokens_test:\n",
        "  bag_of_words_test.append(bag_of_words(token, vocab_list))"
      ],
      "execution_count": null,
      "outputs": []
    },
    {
      "cell_type": "markdown",
      "metadata": {
        "id": "fgAL2E8h8bcJ"
      },
      "source": [
        "# Тренування LogisticRegression, GaussianNB та LinearSVC на bag_of_words_train"
      ]
    },
    {
      "cell_type": "code",
      "metadata": {
        "colab": {
          "base_uri": "https://localhost:8080/"
        },
        "id": "xaAvi2t3Q4ZY",
        "outputId": "cecfee68-16ee-4e18-bde6-c6fa80b12ced"
      },
      "source": [
        "train(LogisticRegression(solver='liblinear', C=0.3, penalty=\"l1\"),\n",
        "      bag_of_words_train, y_train, bag_of_words_test, y_test)"
      ],
      "execution_count": null,
      "outputs": [
        {
          "output_type": "stream",
          "text": [
            "0.8196666666666667\n"
          ],
          "name": "stdout"
        }
      ]
    },
    {
      "cell_type": "code",
      "metadata": {
        "colab": {
          "base_uri": "https://localhost:8080/"
        },
        "id": "x84lPEN7RKka",
        "outputId": "9606e3dd-457e-4b00-fdba-d0ccb82a7470"
      },
      "source": [
        "train(GaussianNB(),\n",
        "      bag_of_words_train, y_train, bag_of_words_test, y_test)"
      ],
      "execution_count": null,
      "outputs": [
        {
          "output_type": "stream",
          "text": [
            "0.6796666666666666\n"
          ],
          "name": "stdout"
        }
      ]
    },
    {
      "cell_type": "code",
      "metadata": {
        "colab": {
          "base_uri": "https://localhost:8080/"
        },
        "id": "sF-oEFLLRWJS",
        "outputId": "417ad4bc-cd7c-4d87-b92a-c9aa9c3062c4"
      },
      "source": [
        "train(LinearSVC(C=0.005),\n",
        "      bag_of_words_train, y_train, bag_of_words_test, y_test)"
      ],
      "execution_count": null,
      "outputs": [
        {
          "output_type": "stream",
          "text": [
            "0.821\n"
          ],
          "name": "stdout"
        }
      ]
    },
    {
      "cell_type": "markdown",
      "metadata": {
        "id": "TR8KmVQl8tuw"
      },
      "source": [
        "# Перетворення тренувальних та тестувальних даних за допомогою tf-idf![image.png](data:image/png;base64,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)"
      ]
    },
    {
      "cell_type": "code",
      "metadata": {
        "id": "seW2T_-J2Sih"
      },
      "source": [
        "vectorizer = TfidfVectorizer(stop_words='english', max_features=5000)\n",
        "tfidf_train = vectorizer.fit_transform(X_train)\n",
        "tfidf_test = vectorizer.transform(X_test)"
      ],
      "execution_count": null,
      "outputs": []
    },
    {
      "cell_type": "markdown",
      "metadata": {
        "id": "WkrDjOfz9J3l"
      },
      "source": [
        "# Тренування LogisticRegression, GaussianNB та LinearSVC на tf-idf"
      ]
    },
    {
      "cell_type": "code",
      "metadata": {
        "colab": {
          "base_uri": "https://localhost:8080/"
        },
        "id": "e2SzGaMU_YMa",
        "outputId": "5749d1e6-874d-4276-848c-011024e24594"
      },
      "source": [
        "train(LogisticRegression(solver='liblinear', C=0.9, penalty=\"l1\"),\n",
        "      tfidf_train.todense(), y_train, tfidf_test.todense(), y_test)"
      ],
      "execution_count": null,
      "outputs": [
        {
          "output_type": "stream",
          "text": [
            "0.8191666666666667\n"
          ],
          "name": "stdout"
        }
      ]
    },
    {
      "cell_type": "code",
      "metadata": {
        "colab": {
          "base_uri": "https://localhost:8080/"
        },
        "id": "jufZKQ0z_ns4",
        "outputId": "c4e2284a-92f4-432d-cf8e-5b48f93f0f4e"
      },
      "source": [
        "train(GaussianNB(),\n",
        "      tfidf_train.todense(), y_train, tfidf_test.todense(), y_test)"
      ],
      "execution_count": null,
      "outputs": [
        {
          "output_type": "stream",
          "text": [
            "0.7216666666666667\n"
          ],
          "name": "stdout"
        }
      ]
    },
    {
      "cell_type": "code",
      "metadata": {
        "colab": {
          "base_uri": "https://localhost:8080/"
        },
        "id": "FP8yfULi_n_V",
        "outputId": "3a4c9e0d-aaa6-454a-b8a0-cf4c976cf90f"
      },
      "source": [
        "train(LinearSVC(C=0.1),\n",
        "      tfidf_train.todense(), y_train, tfidf_test.todense(), y_test)"
      ],
      "execution_count": null,
      "outputs": [
        {
          "output_type": "stream",
          "text": [
            "0.8301666666666667\n"
          ],
          "name": "stdout"
        }
      ]
    },
    {
      "cell_type": "markdown",
      "metadata": {
        "id": "pYZ2vIk-9Nif"
      },
      "source": [
        "# Перетворення тренувальних та тестових даних в glove вектори"
      ]
    },
    {
      "cell_type": "code",
      "metadata": {
        "id": "14ho3j7CniFt"
      },
      "source": [
        "glove = KeyedVectors.load(\"http://134.209.248.229:8081/glove-50k.bin\")\n",
        "\n",
        "doc_vector_train = []\n",
        "doc_vector_test = []\n",
        "\n",
        "for doc in X_train:\n",
        "  tokens = [str(token).lower() for token in tokenize(doc) if str(token).lower() in glove]\n",
        "  doc_vector_train.append(np.array(glove[tokens]).mean(axis=0))\n",
        "\n",
        "for doc in X_test:\n",
        "  tokens = [str(token).lower() for token in tokenize(doc) if str(token).lower() in glove]\n",
        "  doc_vector_test.append(np.array(glove[tokens]).mean(axis=0))"
      ],
      "execution_count": null,
      "outputs": []
    },
    {
      "cell_type": "markdown",
      "metadata": {
        "id": "2d5NsB9x9l1R"
      },
      "source": [
        "# Тренування LogisticRegression, GaussianNB та LinearSVC на glove векторах"
      ]
    },
    {
      "cell_type": "code",
      "metadata": {
        "colab": {
          "base_uri": "https://localhost:8080/"
        },
        "id": "kAeRXHsv_Fbk",
        "outputId": "520bbc20-8a23-460d-cdbc-88d357c11190"
      },
      "source": [
        "train(LogisticRegression(solver='liblinear'),\n",
        "      doc_vector_train, y_train, doc_vector_test, y_test)"
      ],
      "execution_count": null,
      "outputs": [
        {
          "output_type": "stream",
          "text": [
            "0.7883333333333333\n"
          ],
          "name": "stdout"
        }
      ]
    },
    {
      "cell_type": "code",
      "metadata": {
        "colab": {
          "base_uri": "https://localhost:8080/"
        },
        "id": "Zmnvrix__YX6",
        "outputId": "0cf0488a-35a0-440e-f798-aab276015cee"
      },
      "source": [
        "train(GaussianNB(),\n",
        "      doc_vector_train, y_train, doc_vector_test, y_test)"
      ],
      "execution_count": null,
      "outputs": [
        {
          "output_type": "stream",
          "text": [
            "0.6735\n"
          ],
          "name": "stdout"
        }
      ]
    },
    {
      "cell_type": "code",
      "metadata": {
        "colab": {
          "base_uri": "https://localhost:8080/"
        },
        "id": "LhLgiC1Z_Yi5",
        "outputId": "736af98e-a81d-4fc4-ccc8-10462c476769"
      },
      "source": [
        "train(LinearSVC(C=0.9),\n",
        "      doc_vector_train, y_train, doc_vector_test, y_test)"
      ],
      "execution_count": null,
      "outputs": [
        {
          "output_type": "stream",
          "text": [
            "0.7951666666666667\n"
          ],
          "name": "stdout"
        }
      ]
    },
    {
      "cell_type": "markdown",
      "metadata": {
        "id": "Ja27dc-cT-FK"
      },
      "source": [
        "# Завантаження токенайзера та моделі Берт"
      ]
    },
    {
      "cell_type": "code",
      "metadata": {
        "colab": {
          "base_uri": "https://localhost:8080/",
          "height": 367,
          "referenced_widgets": [
            "e2abbf8adb6045ba8ad23c9ad9cdb382",
            "ec5ea1aa672244da9aa44721f89e93be",
            "b390836167924ccbbe50688d52e38a4f",
            "fa02e62ff49240709fabdd09d1cbda87",
            "7b67a870530b40d098b32d6e4a2a9f7d",
            "a404252337084640819390ef4ad14b50",
            "f4a1a11b95374aa38d2641ad2d44d72d",
            "65552b1448a24ee6b8e46b0ca886b660",
            "1f483644007c48aca96e55f3a6a5a3db",
            "f2aaea80576543548fe0916cb4b192ad",
            "ef927aaea32649f09644e984920a2649",
            "1ee0162a694449eaa893280c3b08017c",
            "05bb9dbbff3049e0993decf4bed75877",
            "8d647cc24f9f4e7e90680074593e75c5",
            "d6096122587a4b0dbbc36b88bc8e5711",
            "1901a7e21642428ea85ea37cbdbbfee6",
            "a2e14c380d194a43ac6928c0b4cf8233",
            "199ea1706ff644d782857654a17a5d64",
            "6222281ac8424ab280fd80a268714939",
            "c2e8e5771ff04b6c84196a4f12e4b7b1",
            "2a0ceefd0fea4ed9bc109049b2b14969",
            "3a6c6db608d147c5bb8e2b4fde0f8eac",
            "e6df18795df349f28d8cff6a89721da1",
            "3e848c6eda414abc9c6ff06e21367452",
            "b3e1ba4f31e44e2f8dde5e125c95c9ac",
            "ebf52b20652542e8853edfda9f0b3a29",
            "40da5bef02ca47acb62d38cdf9393f43",
            "2afe8f4d8968445b81f96166b769c60b",
            "4596a5e6f6bb473e8373a336a8eae1df",
            "b69f893ca6a9490ea1383e97d1a5ec50",
            "c541b2ce5d764c3d873c6091aa1c8578",
            "d88b735e26914b4f90aca6d378df363b",
            "ba9b3633f9de4b729d87957d9849fa5f",
            "04f69f2692bd4e79a60ec1107ba85337",
            "b71282d1d2984dc28cc469316c369d7f",
            "3639aac4f0344d2fb3c7f0ca521b2881",
            "6855467ce2bf460eb9a8868afaf780c5",
            "6d3a383a08024517885069f64d5e19d9",
            "cf53528c77d747c7baa7d7fb51183f5a",
            "d6978465443e406ab27f8b26b17d6a98"
          ]
        },
        "id": "LksCodBLRtCM",
        "outputId": "0c688376-c620-4003-f89a-72d605d1d24d"
      },
      "source": [
        "tokenizer = transformers.AutoTokenizer.from_pretrained(\"distilbert-base-uncased\")\n",
        "bert = transformers.AutoModelForSequenceClassification.from_pretrained('distilbert-base-uncased', num_labels=2)"
      ],
      "execution_count": null,
      "outputs": [
        {
          "output_type": "display_data",
          "data": {
            "application/vnd.jupyter.widget-view+json": {
              "model_id": "e2abbf8adb6045ba8ad23c9ad9cdb382",
              "version_minor": 0,
              "version_major": 2
            },
            "text/plain": [
              "HBox(children=(FloatProgress(value=0.0, description='Downloading', max=442.0, style=ProgressStyle(description_…"
            ]
          },
          "metadata": {
            "tags": []
          }
        },
        {
          "output_type": "stream",
          "text": [
            "\n"
          ],
          "name": "stdout"
        },
        {
          "output_type": "display_data",
          "data": {
            "application/vnd.jupyter.widget-view+json": {
              "model_id": "1f483644007c48aca96e55f3a6a5a3db",
              "version_minor": 0,
              "version_major": 2
            },
            "text/plain": [
              "HBox(children=(FloatProgress(value=0.0, description='Downloading', max=231508.0, style=ProgressStyle(descripti…"
            ]
          },
          "metadata": {
            "tags": []
          }
        },
        {
          "output_type": "stream",
          "text": [
            "\n"
          ],
          "name": "stdout"
        },
        {
          "output_type": "display_data",
          "data": {
            "application/vnd.jupyter.widget-view+json": {
              "model_id": "a2e14c380d194a43ac6928c0b4cf8233",
              "version_minor": 0,
              "version_major": 2
            },
            "text/plain": [
              "HBox(children=(FloatProgress(value=0.0, description='Downloading', max=466062.0, style=ProgressStyle(descripti…"
            ]
          },
          "metadata": {
            "tags": []
          }
        },
        {
          "output_type": "stream",
          "text": [
            "\n"
          ],
          "name": "stdout"
        },
        {
          "output_type": "display_data",
          "data": {
            "application/vnd.jupyter.widget-view+json": {
              "model_id": "b3e1ba4f31e44e2f8dde5e125c95c9ac",
              "version_minor": 0,
              "version_major": 2
            },
            "text/plain": [
              "HBox(children=(FloatProgress(value=0.0, description='Downloading', max=28.0, style=ProgressStyle(description_w…"
            ]
          },
          "metadata": {
            "tags": []
          }
        },
        {
          "output_type": "stream",
          "text": [
            "\n"
          ],
          "name": "stdout"
        },
        {
          "output_type": "display_data",
          "data": {
            "application/vnd.jupyter.widget-view+json": {
              "model_id": "ba9b3633f9de4b729d87957d9849fa5f",
              "version_minor": 0,
              "version_major": 2
            },
            "text/plain": [
              "HBox(children=(FloatProgress(value=0.0, description='Downloading', max=267967963.0, style=ProgressStyle(descri…"
            ]
          },
          "metadata": {
            "tags": []
          }
        },
        {
          "output_type": "stream",
          "text": [
            "\n"
          ],
          "name": "stdout"
        },
        {
          "output_type": "stream",
          "text": [
            "Some weights of the model checkpoint at distilbert-base-uncased were not used when initializing DistilBertForSequenceClassification: ['vocab_transform.weight', 'vocab_transform.bias', 'vocab_layer_norm.weight', 'vocab_layer_norm.bias', 'vocab_projector.weight', 'vocab_projector.bias']\n",
            "- This IS expected if you are initializing DistilBertForSequenceClassification from the checkpoint of a model trained on another task or with another architecture (e.g. initializing a BertForSequenceClassification model from a BertForPreTraining model).\n",
            "- This IS NOT expected if you are initializing DistilBertForSequenceClassification from the checkpoint of a model that you expect to be exactly identical (initializing a BertForSequenceClassification model from a BertForSequenceClassification model).\n",
            "Some weights of DistilBertForSequenceClassification were not initialized from the model checkpoint at distilbert-base-uncased and are newly initialized: ['pre_classifier.weight', 'pre_classifier.bias', 'classifier.weight', 'classifier.bias']\n",
            "You should probably TRAIN this model on a down-stream task to be able to use it for predictions and inference.\n"
          ],
          "name": "stderr"
        }
      ]
    },
    {
      "cell_type": "markdown",
      "metadata": {
        "id": "WwDN3UBEZzHF"
      },
      "source": [
        "# Токенізація одного відсотка датасету "
      ]
    },
    {
      "cell_type": "code",
      "metadata": {
        "colab": {
          "base_uri": "https://localhost:8080/",
          "height": 316,
          "referenced_widgets": [
            "e6b3d944a22f41cab6b7086c54c74a08",
            "b65527496d32457a9a0d032ab4519968",
            "f2663d16362448ed9147ca2763a6d7f9",
            "7fc393db10104357bb94693b83647004",
            "d484846ebe594f8c8bd49ea419da1137",
            "9dc1ec286d7643f691d0e9194456bd67",
            "40474f6407d84e98b7bb871c34b714da",
            "86130b96c89a4b068f87b8e58c05c1a1",
            "b273ab3166194d0e857bba89b828add6",
            "35fcf60dec65403e9f19ee89198ac838",
            "0fe724a7176f49fe89be1d626f3bd868",
            "42ed6cb6b90d49e39d40a6d71299eec6",
            "a3a82244d8194d36af4158adbde9a2fa",
            "4806915641ed4b42af29225210141d29",
            "fb5bc72661cd4271acb99f2bd95d9e7b",
            "beab9efb6e764dde8b58a0ea83ee7437",
            "3cc674b78f1e4a03a360bc41a2cc2669",
            "2187b4c85f2045be8b49e89d639996dd",
            "f8893e4493f24b8a85afcdcf93e0f918",
            "ae4c7e0c19244b55ad21355a12effad0",
            "f016c637ca874789a5406d75333faf76",
            "e037bf62aa6449f4bec046ee2cb303d7",
            "8eee9f2e8a6641929e0e1bf2e8853757",
            "722d3e5952e948298c68aa8ebf9d605e",
            "3d78e08d346a4ff289295fb4894d31d3",
            "1f30f03d9bbf44209c45eeff0fa49979",
            "b43e7549124246e5bc8a52e11f9588b3",
            "df4e4cf40a2f4e40a95f80709d8bc702",
            "028db69dc2554d86a9199ac5c6af0b21",
            "7e8510f9d7384673abd88b0ba2e6278f",
            "b31d359c58c644adb688fcb22c008e1d",
            "eed0280c1e1c4abf9d4e0969324ebfb0",
            "40a96757aac042ec8584d84612650698",
            "8be69e63d21f4013acdfc4627d6c4b93",
            "4ccdd4f2947e45a18356de74d63b0b83",
            "7e5d203c92d6420db22be2d852dcb1e3",
            "b3aaec47db3b493ea4b90088bf95bd40",
            "dd3ba22a3a574bbeb17f24c2cf229960",
            "98cad95842b745ebbe1e2287228a0b60",
            "148880474c3f4808ae46f3ab2d43069c",
            "ba0a841418ce4de8b2b5827b605d3fa0",
            "743570a08c6e4d50a2948a5034da3b72",
            "9f88a30b643741ec8a5718fbc871b41e",
            "1d2424e44b6e4a99a6ea2d6a3a677e38",
            "51a54e42b1f141e99ab13354da2bebc2",
            "782fe1a4a06746c0bba020a7ab85c4a1",
            "d23ac263a27642e78a406b978b0b2826",
            "b90d7ca34a104236bb6b44671c03cecf",
            "4d27b89bf8574725a5c62b65001b68ab",
            "ef662bd0b96141e8b214b5980ed68d55",
            "e329e979b365416695b3af5508b887af",
            "141e181249cc4a7da5672b8850cba649",
            "6893fa4d2b2b42d9b0651c77944fbda7",
            "3bbb4163899448d09016641efb0e0768",
            "3cc2ba2d39164c58a0f4bcdc4451a0e3",
            "485a944b08f44d149ee9179de86e24b4"
          ]
        },
        "id": "u7XtYPK6_3d6",
        "outputId": "381a4c31-b69e-44cb-bbf0-b459ba208ee1"
      },
      "source": [
        "def tokenize(batch):\n",
        "  return tokenizer(batch['content'], padding=True, truncation=True)\n",
        "\n",
        "train_data, test_data = load_dataset('amazon_polarity', split=['train[:1%]', 'test[:1%]'])\n",
        "\n",
        "train_data = train_data.map(tokenize, batched=True, batch_size=len(train_data))\n",
        "test_data = test_data.map(tokenize, batched=True, batch_size=len(test_data))"
      ],
      "execution_count": null,
      "outputs": [
        {
          "output_type": "display_data",
          "data": {
            "application/vnd.jupyter.widget-view+json": {
              "model_id": "e6b3d944a22f41cab6b7086c54c74a08",
              "version_minor": 0,
              "version_major": 2
            },
            "text/plain": [
              "HBox(children=(FloatProgress(value=0.0, description='Downloading', max=1690.0, style=ProgressStyle(description…"
            ]
          },
          "metadata": {
            "tags": []
          }
        },
        {
          "output_type": "stream",
          "text": [
            "\n"
          ],
          "name": "stdout"
        },
        {
          "output_type": "display_data",
          "data": {
            "application/vnd.jupyter.widget-view+json": {
              "model_id": "b273ab3166194d0e857bba89b828add6",
              "version_minor": 0,
              "version_major": 2
            },
            "text/plain": [
              "HBox(children=(FloatProgress(value=0.0, description='Downloading', max=860.0, style=ProgressStyle(description_…"
            ]
          },
          "metadata": {
            "tags": []
          }
        },
        {
          "output_type": "stream",
          "text": [
            "\n",
            "Downloading and preparing dataset amazon_polarity/amazon_polarity (download: 656.45 MiB, generated: 1.66 GiB, post-processed: Unknown size, total: 2.30 GiB) to /root/.cache/huggingface/datasets/amazon_polarity/amazon_polarity/3.0.0/35b3f5f426863b55dda2d5dc0da2d3714c7b0e5ba64bc4f1415ac9291ffdb234...\n"
          ],
          "name": "stdout"
        },
        {
          "output_type": "display_data",
          "data": {
            "application/vnd.jupyter.widget-view+json": {
              "model_id": "3cc674b78f1e4a03a360bc41a2cc2669",
              "version_minor": 0,
              "version_major": 2
            },
            "text/plain": [
              "HBox(children=(FloatProgress(value=1.0, bar_style='info', description='Downloading', max=1.0, style=ProgressSt…"
            ]
          },
          "metadata": {
            "tags": []
          }
        },
        {
          "output_type": "stream",
          "text": [
            "\n"
          ],
          "name": "stdout"
        },
        {
          "output_type": "display_data",
          "data": {
            "application/vnd.jupyter.widget-view+json": {
              "model_id": "3d78e08d346a4ff289295fb4894d31d3",
              "version_minor": 0,
              "version_major": 2
            },
            "text/plain": [
              "HBox(children=(FloatProgress(value=1.0, bar_style='info', max=1.0), HTML(value='')))"
            ]
          },
          "metadata": {
            "tags": []
          }
        },
        {
          "output_type": "stream",
          "text": [
            "\r"
          ],
          "name": "stdout"
        },
        {
          "output_type": "display_data",
          "data": {
            "application/vnd.jupyter.widget-view+json": {
              "model_id": "40a96757aac042ec8584d84612650698",
              "version_minor": 0,
              "version_major": 2
            },
            "text/plain": [
              "HBox(children=(FloatProgress(value=1.0, bar_style='info', max=1.0), HTML(value='')))"
            ]
          },
          "metadata": {
            "tags": []
          }
        },
        {
          "output_type": "stream",
          "text": [
            "\rDataset amazon_polarity downloaded and prepared to /root/.cache/huggingface/datasets/amazon_polarity/amazon_polarity/3.0.0/35b3f5f426863b55dda2d5dc0da2d3714c7b0e5ba64bc4f1415ac9291ffdb234. Subsequent calls will reuse this data.\n"
          ],
          "name": "stdout"
        },
        {
          "output_type": "display_data",
          "data": {
            "application/vnd.jupyter.widget-view+json": {
              "model_id": "ba0a841418ce4de8b2b5827b605d3fa0",
              "version_minor": 0,
              "version_major": 2
            },
            "text/plain": [
              "HBox(children=(FloatProgress(value=0.0, max=1.0), HTML(value='')))"
            ]
          },
          "metadata": {
            "tags": []
          }
        },
        {
          "output_type": "stream",
          "text": [
            "\n"
          ],
          "name": "stdout"
        },
        {
          "output_type": "display_data",
          "data": {
            "application/vnd.jupyter.widget-view+json": {
              "model_id": "4d27b89bf8574725a5c62b65001b68ab",
              "version_minor": 0,
              "version_major": 2
            },
            "text/plain": [
              "HBox(children=(FloatProgress(value=0.0, max=1.0), HTML(value='')))"
            ]
          },
          "metadata": {
            "tags": []
          }
        },
        {
          "output_type": "stream",
          "text": [
            "\n"
          ],
          "name": "stdout"
        }
      ]
    },
    {
      "cell_type": "markdown",
      "metadata": {
        "id": "jNILwiyTaH-H"
      },
      "source": [
        "# Визначення функції обрахунку метрики точності"
      ]
    },
    {
      "cell_type": "code",
      "metadata": {
        "id": "l-BrUzrE_3ox"
      },
      "source": [
        "def compute_metrics(pred):\n",
        "  labels = pred.label_ids\n",
        "  preds = pred.predictions.argmax(-1)\n",
        "  acc = accuracy_score(labels, preds)\n",
        "  return {\n",
        "      'accuracy': acc\n",
        "  }"
      ],
      "execution_count": null,
      "outputs": []
    },
    {
      "cell_type": "markdown",
      "metadata": {
        "id": "XO7GA2IDaSaI"
      },
      "source": [
        "# Тренування моделі Берт з:\n",
        " - темпом навчання - 2е-5\n",
        " - розміром батчів - 20\n",
        " - кількістю епох - 1\n",
        " - метрикою - accuracy "
      ]
    },
    {
      "cell_type": "code",
      "metadata": {
        "colab": {
          "base_uri": "https://localhost:8080/",
          "height": 143
        },
        "id": "7EDHJltf_3sq",
        "outputId": "5bb750e3-f756-4c74-ab19-2e6cd7baa45b"
      },
      "source": [
        "args = transformers.TrainingArguments(\n",
        "    output_dir='./output',\n",
        "    evaluation_strategy = \"epoch\",\n",
        "    learning_rate=2e-5,\n",
        "    per_device_train_batch_size=20,\n",
        "    per_device_eval_batch_size=20,\n",
        "    num_train_epochs=1,\n",
        "    load_best_model_at_end=True,\n",
        "    metric_for_best_model='accuracy',\n",
        ")\n",
        "\n",
        "trainer = transformers.Trainer(\n",
        "    model = bert,\n",
        "    args = args,\n",
        "    compute_metrics=compute_metrics,\n",
        "    train_dataset=train_data, \n",
        "    eval_dataset=test_data\n",
        ")\n",
        "\n",
        "trainer.train()"
      ],
      "execution_count": null,
      "outputs": [
        {
          "output_type": "display_data",
          "data": {
            "text/html": [
              "\n",
              "    <div>\n",
              "        <style>\n",
              "            /* Turns off some styling */\n",
              "            progress {\n",
              "                /* gets rid of default border in Firefox and Opera. */\n",
              "                border: none;\n",
              "                /* Needs to be in here for Safari polyfill so background images work as expected. */\n",
              "                background-size: auto;\n",
              "            }\n",
              "        </style>\n",
              "      \n",
              "      <progress value='1800' max='1800' style='width:300px; height:20px; vertical-align: middle;'></progress>\n",
              "      [1800/1800 20:19, Epoch 1/1]\n",
              "    </div>\n",
              "    <table border=\"1\" class=\"dataframe\">\n",
              "  <thead>\n",
              "    <tr style=\"text-align: left;\">\n",
              "      <th>Epoch</th>\n",
              "      <th>Training Loss</th>\n",
              "      <th>Validation Loss</th>\n",
              "      <th>Accuracy</th>\n",
              "      <th>Runtime</th>\n",
              "      <th>Samples Per Second</th>\n",
              "    </tr>\n",
              "  </thead>\n",
              "  <tbody>\n",
              "    <tr>\n",
              "      <td>1</td>\n",
              "      <td>0.207700</td>\n",
              "      <td>0.200203</td>\n",
              "      <td>0.928250</td>\n",
              "      <td>38.683200</td>\n",
              "      <td>103.404000</td>\n",
              "    </tr>\n",
              "  </tbody>\n",
              "</table><p>"
            ],
            "text/plain": [
              "<IPython.core.display.HTML object>"
            ]
          },
          "metadata": {
            "tags": []
          }
        },
        {
          "output_type": "execute_result",
          "data": {
            "text/plain": [
              "TrainOutput(global_step=1800, training_loss=0.2353364372253418, metrics={'train_runtime': 1220.7125, 'train_samples_per_second': 1.475, 'total_flos': 4844864523600000.0, 'epoch': 1.0, 'init_mem_cpu_alloc_delta': 1624104960, 'init_mem_gpu_alloc_delta': 268953088, 'init_mem_cpu_peaked_delta': 0, 'init_mem_gpu_peaked_delta': 0, 'train_mem_cpu_alloc_delta': 353222656, 'train_mem_gpu_alloc_delta': 1077682176, 'train_mem_cpu_peaked_delta': 126976, 'train_mem_gpu_peaked_delta': 4002861568})"
            ]
          },
          "metadata": {
            "tags": []
          },
          "execution_count": 7
        }
      ]
    },
    {
      "cell_type": "markdown",
      "metadata": {
        "id": "_NjHBsTWauzU"
      },
      "source": [
        "# Тренування моделі Берт з:\n",
        " - темпом навчання - 2е-5\n",
        " - розміром батчів - 20\n",
        " - кількістю епох - 2\n",
        " - метрикою - accuracy "
      ]
    },
    {
      "cell_type": "code",
      "metadata": {
        "colab": {
          "base_uri": "https://localhost:8080/",
          "height": 174
        },
        "id": "5O7_yJLV_3vt",
        "outputId": "fa34f1bf-8e60-4b6f-9e34-d14633bd2fd2"
      },
      "source": [
        "args = transformers.TrainingArguments(\n",
        "    output_dir='./output',\n",
        "    evaluation_strategy = \"epoch\",\n",
        "    learning_rate=2e-5,\n",
        "    per_device_train_batch_size=20,\n",
        "    per_device_eval_batch_size=20,\n",
        "    num_train_epochs=2,\n",
        "    load_best_model_at_end=True,\n",
        "    metric_for_best_model='accuracy',\n",
        ")\n",
        "\n",
        "trainer = transformers.Trainer(\n",
        "    model = bert,\n",
        "    args = args,\n",
        "    compute_metrics=compute_metrics,\n",
        "    train_dataset=train_data, \n",
        "    eval_dataset=test_data\n",
        ")\n",
        "\n",
        "trainer.train()"
      ],
      "execution_count": null,
      "outputs": [
        {
          "output_type": "display_data",
          "data": {
            "text/html": [
              "\n",
              "    <div>\n",
              "        <style>\n",
              "            /* Turns off some styling */\n",
              "            progress {\n",
              "                /* gets rid of default border in Firefox and Opera. */\n",
              "                border: none;\n",
              "                /* Needs to be in here for Safari polyfill so background images work as expected. */\n",
              "                background-size: auto;\n",
              "            }\n",
              "        </style>\n",
              "      \n",
              "      <progress value='3600' max='3600' style='width:300px; height:20px; vertical-align: middle;'></progress>\n",
              "      [3600/3600 41:22, Epoch 2/2]\n",
              "    </div>\n",
              "    <table border=\"1\" class=\"dataframe\">\n",
              "  <thead>\n",
              "    <tr style=\"text-align: left;\">\n",
              "      <th>Epoch</th>\n",
              "      <th>Training Loss</th>\n",
              "      <th>Validation Loss</th>\n",
              "      <th>Accuracy</th>\n",
              "      <th>Runtime</th>\n",
              "      <th>Samples Per Second</th>\n",
              "    </tr>\n",
              "  </thead>\n",
              "  <tbody>\n",
              "    <tr>\n",
              "      <td>1</td>\n",
              "      <td>0.212300</td>\n",
              "      <td>0.201466</td>\n",
              "      <td>0.928500</td>\n",
              "      <td>39.237800</td>\n",
              "      <td>101.943000</td>\n",
              "    </tr>\n",
              "    <tr>\n",
              "      <td>2</td>\n",
              "      <td>0.126300</td>\n",
              "      <td>0.241159</td>\n",
              "      <td>0.929750</td>\n",
              "      <td>39.220300</td>\n",
              "      <td>101.988000</td>\n",
              "    </tr>\n",
              "  </tbody>\n",
              "</table><p>"
            ],
            "text/plain": [
              "<IPython.core.display.HTML object>"
            ]
          },
          "metadata": {
            "tags": []
          }
        },
        {
          "output_type": "execute_result",
          "data": {
            "text/plain": [
              "TrainOutput(global_step=3600, training_loss=0.1844108732541402, metrics={'train_runtime': 2483.4699, 'train_samples_per_second': 1.45, 'total_flos': 9689729047200000.0, 'epoch': 2.0, 'init_mem_cpu_alloc_delta': 1647521792, 'init_mem_gpu_alloc_delta': 268953088, 'init_mem_cpu_peaked_delta': 0, 'init_mem_gpu_peaked_delta': 0, 'train_mem_cpu_alloc_delta': 355926016, 'train_mem_gpu_alloc_delta': 1077682176, 'train_mem_cpu_peaked_delta': 0, 'train_mem_gpu_peaked_delta': 4006168064})"
            ]
          },
          "metadata": {
            "tags": []
          },
          "execution_count": 8
        }
      ]
    },
    {
      "cell_type": "code",
      "metadata": {
        "id": "_HGnZY4Y_3yZ"
      },
      "source": [
        ""
      ],
      "execution_count": null,
      "outputs": []
    },
    {
      "cell_type": "code",
      "metadata": {
        "id": "uTBmXazoaRnT"
      },
      "source": [
        ""
      ],
      "execution_count": null,
      "outputs": []
    }
  ]
}